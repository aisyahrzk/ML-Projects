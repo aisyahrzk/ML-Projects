{
 "cells": [
  {
   "cell_type": "markdown",
   "id": "spanish-joseph",
   "metadata": {
    "papermill": {
     "duration": 0.018934,
     "end_time": "2021-05-06T19:54:03.832105",
     "exception": false,
     "start_time": "2021-05-06T19:54:03.813171",
     "status": "completed"
    },
    "tags": []
   },
   "source": [
    "## Heart Failure Prediction "
   ]
  },
  {
   "cell_type": "markdown",
   "id": "experimental-archives",
   "metadata": {
    "papermill": {
     "duration": 0.017671,
     "end_time": "2021-05-06T19:54:03.868058",
     "exception": false,
     "start_time": "2021-05-06T19:54:03.850387",
     "status": "completed"
    },
    "tags": []
   },
   "source": [
    "![](https://viewmedica.com/images/thumbslarge/heartfailure_1280.jpg)\n",
    "\n",
    "source : https://www.wkhs.com/heart/conditions-treated/congestive-heart-failure"
   ]
  },
  {
   "cell_type": "markdown",
   "id": "thrown-telling",
   "metadata": {
    "papermill": {
     "duration": 0.017387,
     "end_time": "2021-05-06T19:54:03.903310",
     "exception": false,
     "start_time": "2021-05-06T19:54:03.885923",
     "status": "completed"
    },
    "tags": []
   },
   "source": [
    "### Hi there!😄 I am new to data science and this is my try on the Heart Failure Prediction dataset. Feel free to comment if you have any questions, insights or advice on this or any data science related :) Upvote if you find my work useful for you! Thank you!"
   ]
  },
  {
   "cell_type": "markdown",
   "id": "skilled-impact",
   "metadata": {
    "papermill": {
     "duration": 0.017598,
     "end_time": "2021-05-06T19:54:03.938697",
     "exception": false,
     "start_time": "2021-05-06T19:54:03.921099",
     "status": "completed"
    },
    "tags": []
   },
   "source": [
    "# **<span style=\"color:#6daa9f;\">IMPORTING LIBRARIES</span>**\n"
   ]
  },
  {
   "cell_type": "code",
   "execution_count": 1,
   "id": "governmental-macintosh",
   "metadata": {
    "_cell_guid": "b1076dfc-b9ad-4769-8c92-a6c4dae69d19",
    "_uuid": "8f2839f25d086af736a60e9eeb907d3b93b6e0e5",
    "execution": {
     "iopub.execute_input": "2021-05-06T19:54:03.982145Z",
     "iopub.status.busy": "2021-05-06T19:54:03.981517Z",
     "iopub.status.idle": "2021-05-06T19:54:05.527078Z",
     "shell.execute_reply": "2021-05-06T19:54:05.526022Z"
    },
    "papermill": {
     "duration": 1.570835,
     "end_time": "2021-05-06T19:54:05.527281",
     "exception": false,
     "start_time": "2021-05-06T19:54:03.956446",
     "status": "completed"
    },
    "tags": []
   },
   "outputs": [],
   "source": [
    "import seaborn as sns\n",
    "import pandas as pd\n",
    "import numpy as np\n",
    "import matplotlib.pyplot as plt\n",
    "\n",
    "#split train and test set\n",
    "from sklearn.model_selection import train_test_split\n",
    "\n",
    "#sklearn model\n",
    "from sklearn.naive_bayes import GaussianNB\n",
    "from sklearn import metrics\n",
    "from sklearn.linear_model import LogisticRegression\n",
    "from sklearn.metrics import confusion_matrix\n",
    "from sklearn.metrics import accuracy_score\n",
    "from sklearn.naive_bayes import GaussianNB\n",
    "from sklearn.ensemble import RandomForestClassifier\n",
    "from sklearn.metrics import classification_report\n"
   ]
  },
  {
   "cell_type": "markdown",
   "id": "committed-villa",
   "metadata": {
    "papermill": {
     "duration": 0.017947,
     "end_time": "2021-05-06T19:54:05.565247",
     "exception": false,
     "start_time": "2021-05-06T19:54:05.547300",
     "status": "completed"
    },
    "tags": []
   },
   "source": [
    "# **<span style=\"color:#6daa9f;\">LOAD DATA</span>**\n"
   ]
  },
  {
   "cell_type": "code",
   "execution_count": 2,
   "id": "effective-berlin",
   "metadata": {
    "execution": {
     "iopub.execute_input": "2021-05-06T19:54:05.606615Z",
     "iopub.status.busy": "2021-05-06T19:54:05.605954Z",
     "iopub.status.idle": "2021-05-06T19:54:05.659777Z",
     "shell.execute_reply": "2021-05-06T19:54:05.659199Z"
    },
    "papermill": {
     "duration": 0.076624,
     "end_time": "2021-05-06T19:54:05.659913",
     "exception": false,
     "start_time": "2021-05-06T19:54:05.583289",
     "status": "completed"
    },
    "tags": []
   },
   "outputs": [
    {
     "data": {
      "text/html": [
       "<div>\n",
       "<style scoped>\n",
       "    .dataframe tbody tr th:only-of-type {\n",
       "        vertical-align: middle;\n",
       "    }\n",
       "\n",
       "    .dataframe tbody tr th {\n",
       "        vertical-align: top;\n",
       "    }\n",
       "\n",
       "    .dataframe thead th {\n",
       "        text-align: right;\n",
       "    }\n",
       "</style>\n",
       "<table border=\"1\" class=\"dataframe\">\n",
       "  <thead>\n",
       "    <tr style=\"text-align: right;\">\n",
       "      <th></th>\n",
       "      <th>age</th>\n",
       "      <th>anaemia</th>\n",
       "      <th>creatinine_phosphokinase</th>\n",
       "      <th>diabetes</th>\n",
       "      <th>ejection_fraction</th>\n",
       "      <th>high_blood_pressure</th>\n",
       "      <th>platelets</th>\n",
       "      <th>serum_creatinine</th>\n",
       "      <th>serum_sodium</th>\n",
       "      <th>sex</th>\n",
       "      <th>smoking</th>\n",
       "      <th>time</th>\n",
       "      <th>DEATH_EVENT</th>\n",
       "    </tr>\n",
       "  </thead>\n",
       "  <tbody>\n",
       "    <tr>\n",
       "      <th>0</th>\n",
       "      <td>75.0</td>\n",
       "      <td>0</td>\n",
       "      <td>582</td>\n",
       "      <td>0</td>\n",
       "      <td>20</td>\n",
       "      <td>1</td>\n",
       "      <td>265000.00</td>\n",
       "      <td>1.9</td>\n",
       "      <td>130</td>\n",
       "      <td>1</td>\n",
       "      <td>0</td>\n",
       "      <td>4</td>\n",
       "      <td>1</td>\n",
       "    </tr>\n",
       "    <tr>\n",
       "      <th>1</th>\n",
       "      <td>55.0</td>\n",
       "      <td>0</td>\n",
       "      <td>7861</td>\n",
       "      <td>0</td>\n",
       "      <td>38</td>\n",
       "      <td>0</td>\n",
       "      <td>263358.03</td>\n",
       "      <td>1.1</td>\n",
       "      <td>136</td>\n",
       "      <td>1</td>\n",
       "      <td>0</td>\n",
       "      <td>6</td>\n",
       "      <td>1</td>\n",
       "    </tr>\n",
       "    <tr>\n",
       "      <th>2</th>\n",
       "      <td>65.0</td>\n",
       "      <td>0</td>\n",
       "      <td>146</td>\n",
       "      <td>0</td>\n",
       "      <td>20</td>\n",
       "      <td>0</td>\n",
       "      <td>162000.00</td>\n",
       "      <td>1.3</td>\n",
       "      <td>129</td>\n",
       "      <td>1</td>\n",
       "      <td>1</td>\n",
       "      <td>7</td>\n",
       "      <td>1</td>\n",
       "    </tr>\n",
       "    <tr>\n",
       "      <th>3</th>\n",
       "      <td>50.0</td>\n",
       "      <td>1</td>\n",
       "      <td>111</td>\n",
       "      <td>0</td>\n",
       "      <td>20</td>\n",
       "      <td>0</td>\n",
       "      <td>210000.00</td>\n",
       "      <td>1.9</td>\n",
       "      <td>137</td>\n",
       "      <td>1</td>\n",
       "      <td>0</td>\n",
       "      <td>7</td>\n",
       "      <td>1</td>\n",
       "    </tr>\n",
       "    <tr>\n",
       "      <th>4</th>\n",
       "      <td>65.0</td>\n",
       "      <td>1</td>\n",
       "      <td>160</td>\n",
       "      <td>1</td>\n",
       "      <td>20</td>\n",
       "      <td>0</td>\n",
       "      <td>327000.00</td>\n",
       "      <td>2.7</td>\n",
       "      <td>116</td>\n",
       "      <td>0</td>\n",
       "      <td>0</td>\n",
       "      <td>8</td>\n",
       "      <td>1</td>\n",
       "    </tr>\n",
       "  </tbody>\n",
       "</table>\n",
       "</div>"
      ],
      "text/plain": [
       "    age  anaemia  creatinine_phosphokinase  diabetes  ejection_fraction  \\\n",
       "0  75.0        0                       582         0                 20   \n",
       "1  55.0        0                      7861         0                 38   \n",
       "2  65.0        0                       146         0                 20   \n",
       "3  50.0        1                       111         0                 20   \n",
       "4  65.0        1                       160         1                 20   \n",
       "\n",
       "   high_blood_pressure  platelets  serum_creatinine  serum_sodium  sex  \\\n",
       "0                    1  265000.00               1.9           130    1   \n",
       "1                    0  263358.03               1.1           136    1   \n",
       "2                    0  162000.00               1.3           129    1   \n",
       "3                    0  210000.00               1.9           137    1   \n",
       "4                    0  327000.00               2.7           116    0   \n",
       "\n",
       "   smoking  time  DEATH_EVENT  \n",
       "0        0     4            1  \n",
       "1        0     6            1  \n",
       "2        1     7            1  \n",
       "3        0     7            1  \n",
       "4        0     8            1  "
      ]
     },
     "execution_count": 2,
     "metadata": {},
     "output_type": "execute_result"
    }
   ],
   "source": [
    "data = pd.read_csv('../input/heart-failure-clinical-data/heart_failure_clinical_records_dataset.csv')\n",
    "\n",
    "data.head()"
   ]
  },
  {
   "cell_type": "markdown",
   "id": "continuing-village",
   "metadata": {
    "papermill": {
     "duration": 0.018709,
     "end_time": "2021-05-06T19:54:05.698276",
     "exception": false,
     "start_time": "2021-05-06T19:54:05.679567",
     "status": "completed"
    },
    "tags": []
   },
   "source": [
    "# **<span style=\"color:#6daa9f;\">EDA</span>**\n"
   ]
  },
  {
   "cell_type": "code",
   "execution_count": 3,
   "id": "american-timothy",
   "metadata": {
    "execution": {
     "iopub.execute_input": "2021-05-06T19:54:05.744763Z",
     "iopub.status.busy": "2021-05-06T19:54:05.740771Z",
     "iopub.status.idle": "2021-05-06T19:54:05.786333Z",
     "shell.execute_reply": "2021-05-06T19:54:05.788086Z"
    },
    "papermill": {
     "duration": 0.07106,
     "end_time": "2021-05-06T19:54:05.788307",
     "exception": false,
     "start_time": "2021-05-06T19:54:05.717247",
     "status": "completed"
    },
    "tags": []
   },
   "outputs": [
    {
     "name": "stdout",
     "output_type": "stream",
     "text": [
      "              age     anaemia  creatinine_phosphokinase    diabetes  \\\n",
      "count  299.000000  299.000000                299.000000  299.000000   \n",
      "mean    60.833893    0.431438                581.839465    0.418060   \n",
      "std     11.894809    0.496107                970.287881    0.494067   \n",
      "min     40.000000    0.000000                 23.000000    0.000000   \n",
      "25%     51.000000    0.000000                116.500000    0.000000   \n",
      "50%     60.000000    0.000000                250.000000    0.000000   \n",
      "75%     70.000000    1.000000                582.000000    1.000000   \n",
      "max     95.000000    1.000000               7861.000000    1.000000   \n",
      "\n",
      "       ejection_fraction  high_blood_pressure      platelets  \\\n",
      "count         299.000000           299.000000     299.000000   \n",
      "mean           38.083612             0.351171  263358.029264   \n",
      "std            11.834841             0.478136   97804.236869   \n",
      "min            14.000000             0.000000   25100.000000   \n",
      "25%            30.000000             0.000000  212500.000000   \n",
      "50%            38.000000             0.000000  262000.000000   \n",
      "75%            45.000000             1.000000  303500.000000   \n",
      "max            80.000000             1.000000  850000.000000   \n",
      "\n",
      "       serum_creatinine  serum_sodium         sex    smoking        time  \\\n",
      "count         299.00000    299.000000  299.000000  299.00000  299.000000   \n",
      "mean            1.39388    136.625418    0.648829    0.32107  130.260870   \n",
      "std             1.03451      4.412477    0.478136    0.46767   77.614208   \n",
      "min             0.50000    113.000000    0.000000    0.00000    4.000000   \n",
      "25%             0.90000    134.000000    0.000000    0.00000   73.000000   \n",
      "50%             1.10000    137.000000    1.000000    0.00000  115.000000   \n",
      "75%             1.40000    140.000000    1.000000    1.00000  203.000000   \n",
      "max             9.40000    148.000000    1.000000    1.00000  285.000000   \n",
      "\n",
      "       DEATH_EVENT  \n",
      "count    299.00000  \n",
      "mean       0.32107  \n",
      "std        0.46767  \n",
      "min        0.00000  \n",
      "25%        0.00000  \n",
      "50%        0.00000  \n",
      "75%        1.00000  \n",
      "max        1.00000  \n",
      "(299, 13)\n",
      "['age', 'anaemia', 'creatinine_phosphokinase', 'diabetes', 'ejection_fraction', 'high_blood_pressure', 'platelets', 'serum_creatinine', 'serum_sodium', 'sex', 'smoking', 'time', 'DEATH_EVENT']\n"
     ]
    },
    {
     "data": {
      "text/plain": [
       "age                         float64\n",
       "anaemia                       int64\n",
       "creatinine_phosphokinase      int64\n",
       "diabetes                      int64\n",
       "ejection_fraction             int64\n",
       "high_blood_pressure           int64\n",
       "platelets                   float64\n",
       "serum_creatinine            float64\n",
       "serum_sodium                  int64\n",
       "sex                           int64\n",
       "smoking                       int64\n",
       "time                          int64\n",
       "DEATH_EVENT                   int64\n",
       "dtype: object"
      ]
     },
     "execution_count": 3,
     "metadata": {},
     "output_type": "execute_result"
    }
   ],
   "source": [
    "#summary of variables in data\n",
    "print(data.describe())\n",
    "\n",
    "#identify column names,column data type and shape of the dataset\n",
    "print(np.shape(data))\n",
    "\n",
    "print(data.columns.tolist())\n",
    "\n",
    "data.dtypes"
   ]
  },
  {
   "cell_type": "markdown",
   "id": "urban-niagara",
   "metadata": {
    "papermill": {
     "duration": 0.019646,
     "end_time": "2021-05-06T19:54:05.828333",
     "exception": false,
     "start_time": "2021-05-06T19:54:05.808687",
     "status": "completed"
    },
    "tags": []
   },
   "source": [
    "From here,we can see that the dataset contains 13 columns with 299 rows.\n",
    "The datatype for every rows are also all numerics \n",
    "\n",
    "Detail About Data:\n",
    "\n",
    "- Age: age of patient\n",
    "- anaemia :whether the patient have a low red blood cell or hemoglobin (0 or 1)\n",
    "- creatinine_phosphokinase: an enzyme in our blood (the level of CPK enzyme in blood mcg/L),  \n",
    "high level of CPK indicate that there has been an injury or stress to muscle tissue, heart or brain\n",
    "- diabetes: if the patient has diabetes (type 2 diabetes patient is 4 times more likely  to develop heart failure than someone without)\n",
    "- ejection_fraction : percentage of blood pump out of the heart at each contraction (percentage)\n",
    "- high_blood_pressure: if the patient have hypertension\n",
    "- plateletes:the level of platelets in blood \n",
    "- serum_creatinine: the level of serum creatinine in patient's blood mg/dL- \n",
    "  give an estimation on how well the kidney filters\n",
    "- serum_sodium: level of serum sodium in the blood\n",
    "- sex:gender of patient (0 or 1) female/male\n",
    "- smoking : if the patient smokes or not\n",
    "- time:follow up period of patient\n",
    "- death_event:patient deceased during the follow up period\n"
   ]
  },
  {
   "cell_type": "code",
   "execution_count": 4,
   "id": "interstate-capability",
   "metadata": {
    "execution": {
     "iopub.execute_input": "2021-05-06T19:54:05.876345Z",
     "iopub.status.busy": "2021-05-06T19:54:05.875541Z",
     "iopub.status.idle": "2021-05-06T19:54:05.878369Z",
     "shell.execute_reply": "2021-05-06T19:54:05.878998Z"
    },
    "papermill": {
     "duration": 0.030773,
     "end_time": "2021-05-06T19:54:05.879163",
     "exception": false,
     "start_time": "2021-05-06T19:54:05.848390",
     "status": "completed"
    },
    "tags": []
   },
   "outputs": [
    {
     "data": {
      "text/plain": [
       "age                         0\n",
       "anaemia                     0\n",
       "creatinine_phosphokinase    0\n",
       "diabetes                    0\n",
       "ejection_fraction           0\n",
       "high_blood_pressure         0\n",
       "platelets                   0\n",
       "serum_creatinine            0\n",
       "serum_sodium                0\n",
       "sex                         0\n",
       "smoking                     0\n",
       "time                        0\n",
       "DEATH_EVENT                 0\n",
       "dtype: int64"
      ]
     },
     "execution_count": 4,
     "metadata": {},
     "output_type": "execute_result"
    }
   ],
   "source": [
    "#identify missing values in dataset\n",
    "data.isnull().sum()\n"
   ]
  },
  {
   "cell_type": "markdown",
   "id": "wrapped-demand",
   "metadata": {
    "papermill": {
     "duration": 0.020115,
     "end_time": "2021-05-06T19:54:05.919797",
     "exception": false,
     "start_time": "2021-05-06T19:54:05.899682",
     "status": "completed"
    },
    "tags": []
   },
   "source": [
    "The sum of missing values for every column.In this case,there are zero missing values for all columns"
   ]
  },
  {
   "cell_type": "code",
   "execution_count": 5,
   "id": "prerequisite-hampshire",
   "metadata": {
    "execution": {
     "iopub.execute_input": "2021-05-06T19:54:05.963722Z",
     "iopub.status.busy": "2021-05-06T19:54:05.963066Z",
     "iopub.status.idle": "2021-05-06T19:54:07.174863Z",
     "shell.execute_reply": "2021-05-06T19:54:07.175576Z"
    },
    "papermill": {
     "duration": 1.235766,
     "end_time": "2021-05-06T19:54:07.175769",
     "exception": false,
     "start_time": "2021-05-06T19:54:05.940003",
     "status": "completed"
    },
    "tags": []
   },
   "outputs": [
    {
     "data": {
      "image/png": "[encoded data removed]",
      "text/plain": [
       "<Figure size 1440x1440 with 2 Axes>"
      ]
     },
     "metadata": {
      "needs_background": "light"
     },
     "output_type": "display_data"
    },
    {
     "data": {
      "text/plain": [
       "<Figure size 7200x7200 with 0 Axes>"
      ]
     },
     "metadata": {},
     "output_type": "display_data"
    }
   ],
   "source": [
    "corrMatrix = data.corr()\n",
    "plt.subplots(figsize=(20,20))\n",
    "\n",
    "sns.heatmap(corrMatrix, annot=True)\n",
    "plt.figure(figsize=(100,100))\n",
    "plt.show()"
   ]
  },
  {
   "cell_type": "markdown",
   "id": "charming-feeding",
   "metadata": {
    "papermill": {
     "duration": 0.02508,
     "end_time": "2021-05-06T19:54:07.226523",
     "exception": false,
     "start_time": "2021-05-06T19:54:07.201443",
     "status": "completed"
    },
    "tags": []
   },
   "source": [
    "Correlation between all features:\n",
    "- follow up time of patient have the highest correlation with death_event \n",
    "- followed by ejection fraction\n",
    "- linearly collerated age (higher age, more likely to death)\n",
    "- serum_creatinine level linearly collerated with death_event\n",
    "\n",
    "From the matrix, I decided to use age, time,ejection_fraction,serum_Creatinine and serum_Sodium\n"
   ]
  },
  {
   "cell_type": "markdown",
   "id": "armed-significance",
   "metadata": {
    "papermill": {
     "duration": 0.024737,
     "end_time": "2021-05-06T19:54:07.276747",
     "exception": false,
     "start_time": "2021-05-06T19:54:07.252010",
     "status": "completed"
    },
    "tags": []
   },
   "source": [
    "## Variable Analysis\n",
    "Reference : https://towardsdatascience.com/data-exploration-and-analysis-using-python-e564473d7607\n",
    "\n",
    "Using univariate analysis to highlight missing and outlier values.Our variable are categorical variables.\n",
    "\n",
    "Handling outliers\n",
    "\n",
    "\n",
    "### Data Analysis & Visualization\n",
    "\n",
    "visualize every data \n",
    "\n",
    "Age \n",
    "-the number of death event according to age distribution\n",
    "\n",
    "\n"
   ]
  },
  {
   "cell_type": "code",
   "execution_count": 6,
   "id": "monthly-lexington",
   "metadata": {
    "execution": {
     "iopub.execute_input": "2021-05-06T19:54:07.333848Z",
     "iopub.status.busy": "2021-05-06T19:54:07.332870Z",
     "iopub.status.idle": "2021-05-06T19:54:07.508804Z",
     "shell.execute_reply": "2021-05-06T19:54:07.508237Z"
    },
    "papermill": {
     "duration": 0.206904,
     "end_time": "2021-05-06T19:54:07.508942",
     "exception": false,
     "start_time": "2021-05-06T19:54:07.302038",
     "status": "completed"
    },
    "tags": []
   },
   "outputs": [
    {
     "name": "stdout",
     "output_type": "stream",
     "text": [
      "0    203\n",
      "1     96\n",
      "Name: DEATH_EVENT, dtype: int64\n"
     ]
    },
    {
     "data": {
      "text/plain": [
       "<AxesSubplot:>"
      ]
     },
     "execution_count": 6,
     "metadata": {},
     "output_type": "execute_result"
    },
    {
     "data": {
      "image/png": "[encoded data removed]",
      "text/plain": [
       "<Figure size 432x288 with 1 Axes>"
      ]
     },
     "metadata": {
      "needs_background": "light"
     },
     "output_type": "display_data"
    }
   ],
   "source": [
    "#check the data provided according to our target variable(death_event)\n",
    "\n",
    "print(data['DEATH_EVENT'].value_counts())\n",
    "data['DEATH_EVENT'].value_counts().plot(kind='bar')"
   ]
  },
  {
   "cell_type": "markdown",
   "id": "mineral-chest",
   "metadata": {
    "papermill": {
     "duration": 0.026526,
     "end_time": "2021-05-06T19:54:07.562668",
     "exception": false,
     "start_time": "2021-05-06T19:54:07.536142",
     "status": "completed"
    },
    "tags": []
   },
   "source": [
    "Above clearly shows that our data is imbalanced with the data for '0' is 203 while for '1' is 96 samples."
   ]
  },
  {
   "cell_type": "code",
   "execution_count": 7,
   "id": "defined-claim",
   "metadata": {
    "execution": {
     "iopub.execute_input": "2021-05-06T19:54:07.655421Z",
     "iopub.status.busy": "2021-05-06T19:54:07.648693Z",
     "iopub.status.idle": "2021-05-06T19:54:07.880167Z",
     "shell.execute_reply": "2021-05-06T19:54:07.880753Z"
    },
    "papermill": {
     "duration": 0.291537,
     "end_time": "2021-05-06T19:54:07.880966",
     "exception": false,
     "start_time": "2021-05-06T19:54:07.589429",
     "status": "completed"
    },
    "tags": []
   },
   "outputs": [
    {
     "data": {
      "text/plain": [
       "<AxesSubplot:xlabel='age', ylabel='Count'>"
      ]
     },
     "execution_count": 7,
     "metadata": {},
     "output_type": "execute_result"
    },
    {
     "data": {
      "image/png": "[encoded data removed]",
      "text/plain": [
       "<Figure size 432x288 with 1 Axes>"
      ]
     },
     "metadata": {
      "needs_background": "light"
     },
     "output_type": "display_data"
    }
   ],
   "source": [
    "sns.histplot(data,x='age',hue='DEATH_EVENT',multiple='stack')\n"
   ]
  },
  {
   "cell_type": "code",
   "execution_count": 8,
   "id": "southwest-remains",
   "metadata": {
    "execution": {
     "iopub.execute_input": "2021-05-06T19:54:07.942521Z",
     "iopub.status.busy": "2021-05-06T19:54:07.941815Z",
     "iopub.status.idle": "2021-05-06T19:54:08.177676Z",
     "shell.execute_reply": "2021-05-06T19:54:08.178187Z"
    },
    "papermill": {
     "duration": 0.267285,
     "end_time": "2021-05-06T19:54:08.178373",
     "exception": false,
     "start_time": "2021-05-06T19:54:07.911088",
     "status": "completed"
    },
    "tags": []
   },
   "outputs": [
    {
     "data": {
      "text/plain": [
       "<AxesSubplot:xlabel='age', ylabel='Count'>"
      ]
     },
     "execution_count": 8,
     "metadata": {},
     "output_type": "execute_result"
    },
    {
     "data": {
      "image/png": "[encoded data removed]",
      "text/plain": [
       "<Figure size 432x288 with 1 Axes>"
      ]
     },
     "metadata": {
      "needs_background": "light"
     },
     "output_type": "display_data"
    }
   ],
   "source": [
    "sns.histplot(data,x='age',hue='sex',multiple=\"stack\")"
   ]
  },
  {
   "cell_type": "markdown",
   "id": "protected-riverside",
   "metadata": {
    "papermill": {
     "duration": 0.028709,
     "end_time": "2021-05-06T19:54:08.236054",
     "exception": false,
     "start_time": "2021-05-06T19:54:08.207345",
     "status": "completed"
    },
    "tags": []
   },
   "source": [
    "\n",
    "\n",
    "- I will not get rid of outliers as these values are medical data which actually have meaning medically\n",
    "\n",
    "\n"
   ]
  },
  {
   "cell_type": "markdown",
   "id": "surgical-hebrew",
   "metadata": {
    "papermill": {
     "duration": 0.028491,
     "end_time": "2021-05-06T19:54:08.293494",
     "exception": false,
     "start_time": "2021-05-06T19:54:08.265003",
     "status": "completed"
    },
    "tags": []
   },
   "source": [
    "## Model Building"
   ]
  },
  {
   "cell_type": "markdown",
   "id": "nervous-ozone",
   "metadata": {
    "papermill": {
     "duration": 0.028878,
     "end_time": "2021-05-06T19:54:08.351798",
     "exception": false,
     "start_time": "2021-05-06T19:54:08.322920",
     "status": "completed"
    },
    "tags": []
   },
   "source": [
    "**Split train and test data**\n",
    "\n"
   ]
  },
  {
   "cell_type": "code",
   "execution_count": 9,
   "id": "worth-equivalent",
   "metadata": {
    "execution": {
     "iopub.execute_input": "2021-05-06T19:54:08.419945Z",
     "iopub.status.busy": "2021-05-06T19:54:08.418984Z",
     "iopub.status.idle": "2021-05-06T19:54:08.422059Z",
     "shell.execute_reply": "2021-05-06T19:54:08.421554Z"
    },
    "papermill": {
     "duration": 0.041507,
     "end_time": "2021-05-06T19:54:08.422196",
     "exception": false,
     "start_time": "2021-05-06T19:54:08.380689",
     "status": "completed"
    },
    "tags": []
   },
   "outputs": [],
   "source": [
    "col = ['time','ejection_fraction','serum_creatinine','age','serum_sodium']\n",
    "predictors = data[col]\n",
    "target = data[\"DEATH_EVENT\"]\n",
    "\n",
    "X_train, X_test, y_train, y_test = train_test_split(predictors, target, test_size = 0.22, random_state = 0)\n",
    "\n"
   ]
  },
  {
   "cell_type": "markdown",
   "id": "available-canadian",
   "metadata": {
    "papermill": {
     "duration": 0.028769,
     "end_time": "2021-05-06T19:54:08.480146",
     "exception": false,
     "start_time": "2021-05-06T19:54:08.451377",
     "status": "completed"
    },
    "tags": []
   },
   "source": [
    "**Normalize our data**\n",
    "\n",
    "Since we have many numerical columns in our data with different range of values, I decided to change the values to a common scale using normalization to bring it all in the same range."
   ]
  },
  {
   "cell_type": "code",
   "execution_count": 10,
   "id": "embedded-proportion",
   "metadata": {
    "execution": {
     "iopub.execute_input": "2021-05-06T19:54:08.550366Z",
     "iopub.status.busy": "2021-05-06T19:54:08.545785Z",
     "iopub.status.idle": "2021-05-06T19:54:08.553776Z",
     "shell.execute_reply": "2021-05-06T19:54:08.553075Z"
    },
    "papermill": {
     "duration": 0.044611,
     "end_time": "2021-05-06T19:54:08.553927",
     "exception": false,
     "start_time": "2021-05-06T19:54:08.509316",
     "status": "completed"
    },
    "tags": []
   },
   "outputs": [],
   "source": [
    "# Feature Scaling\n",
    "\n",
    "from sklearn.preprocessing import StandardScaler\n",
    "sc = StandardScaler()\n",
    "X_train = sc.fit_transform(X_train)\n",
    "X_test = sc.transform(X_test)"
   ]
  },
  {
   "cell_type": "markdown",
   "id": "ranging-crossing",
   "metadata": {
    "papermill": {
     "duration": 0.028962,
     "end_time": "2021-05-06T19:54:08.612085",
     "exception": false,
     "start_time": "2021-05-06T19:54:08.583123",
     "status": "completed"
    },
    "tags": []
   },
   "source": [
    " ## 5 MODEL\n",
    " \n",
    "* Naive Bayes\n",
    "* Random Forest\n",
    "* Logistic Regression\n",
    "* SVM\n",
    "* Decision Trees\n"
   ]
  },
  {
   "cell_type": "code",
   "execution_count": 11,
   "id": "female-spray",
   "metadata": {
    "execution": {
     "iopub.execute_input": "2021-05-06T19:54:08.677300Z",
     "iopub.status.busy": "2021-05-06T19:54:08.676283Z",
     "iopub.status.idle": "2021-05-06T19:54:08.688047Z",
     "shell.execute_reply": "2021-05-06T19:54:08.688891Z"
    },
    "papermill": {
     "duration": 0.048053,
     "end_time": "2021-05-06T19:54:08.689131",
     "exception": false,
     "start_time": "2021-05-06T19:54:08.641078",
     "status": "completed"
    },
    "tags": []
   },
   "outputs": [
    {
     "name": "stdout",
     "output_type": "stream",
     "text": [
      "Gaussian Naive Bayes model accuracy(in %): 78.78787878787878\n",
      "              precision    recall  f1-score   support\n",
      "\n",
      "           0       0.77      0.95      0.85        42\n",
      "           1       0.86      0.50      0.63        24\n",
      "\n",
      "    accuracy                           0.79        66\n",
      "   macro avg       0.81      0.73      0.74        66\n",
      "weighted avg       0.80      0.79      0.77        66\n",
      "\n"
     ]
    }
   ],
   "source": [
    "#gaussian naive bayes\n",
    "gnb = GaussianNB()\n",
    "gnb.fit(X_train, y_train)\n",
    "  \n",
    "# making predictions on the testing set\n",
    "y_pred = gnb.predict(X_test)\n",
    "  \n",
    "# comparing actual response values (y_test) with predicted response values (y_pred)\n",
    "acc_naivebayes = metrics.accuracy_score(y_test, y_pred)*100\n",
    "print(\"Gaussian Naive Bayes model accuracy(in %):\",acc_naivebayes )\n",
    "print(classification_report(y_test, y_pred))"
   ]
  },
  {
   "cell_type": "code",
   "execution_count": 12,
   "id": "aquatic-petite",
   "metadata": {
    "execution": {
     "iopub.execute_input": "2021-05-06T19:54:08.770090Z",
     "iopub.status.busy": "2021-05-06T19:54:08.769393Z",
     "iopub.status.idle": "2021-05-06T19:54:09.117731Z",
     "shell.execute_reply": "2021-05-06T19:54:09.116747Z"
    },
    "papermill": {
     "duration": 0.398322,
     "end_time": "2021-05-06T19:54:09.117879",
     "exception": false,
     "start_time": "2021-05-06T19:54:08.719557",
     "status": "completed"
    },
    "tags": []
   },
   "outputs": [
    {
     "name": "stdout",
     "output_type": "stream",
     "text": [
      "[[40  2]\n",
      " [12 12]]\n",
      "Logistic Regression model Accuracy :  78.79\n",
      "              precision    recall  f1-score   support\n",
      "\n",
      "           0       0.77      0.95      0.85        42\n",
      "           1       0.86      0.50      0.63        24\n",
      "\n",
      "    accuracy                           0.79        66\n",
      "   macro avg       0.81      0.73      0.74        66\n",
      "weighted avg       0.80      0.79      0.77        66\n",
      "\n"
     ]
    },
    {
     "data": {
      "image/png": "[encoded data removed]",
      "text/plain": [
       "<Figure size 432x288 with 2 Axes>"
      ]
     },
     "metadata": {
      "needs_background": "light"
     },
     "output_type": "display_data"
    }
   ],
   "source": [
    "#logistic regression \n",
    "\n",
    "classifier = LogisticRegression(random_state = 22)\n",
    "classifier.fit(X_train, y_train)\n",
    "\n",
    "y_pred = classifier.predict(X_test)\n",
    "\n",
    "cm = confusion_matrix(y_test, y_pred)\n",
    "print(cm)\n",
    "sns.heatmap(cm, annot=True)\n",
    "\n",
    "acc_logisticregression = round(accuracy_score(y_pred, y_test) * 100, 2)\n",
    "print (\"Logistic Regression model Accuracy : \", acc_logisticregression) \n",
    "print(classification_report(y_test, y_pred))"
   ]
  },
  {
   "cell_type": "code",
   "execution_count": 13,
   "id": "liable-housing",
   "metadata": {
    "execution": {
     "iopub.execute_input": "2021-05-06T19:54:09.192626Z",
     "iopub.status.busy": "2021-05-06T19:54:09.187460Z",
     "iopub.status.idle": "2021-05-06T19:54:09.396433Z",
     "shell.execute_reply": "2021-05-06T19:54:09.395754Z"
    },
    "papermill": {
     "duration": 0.247204,
     "end_time": "2021-05-06T19:54:09.396585",
     "exception": false,
     "start_time": "2021-05-06T19:54:09.149381",
     "status": "completed"
    },
    "tags": []
   },
   "outputs": [
    {
     "name": "stdout",
     "output_type": "stream",
     "text": [
      "Random Forest Model Accuracy :  84.85\n",
      "              precision    recall  f1-score   support\n",
      "\n",
      "           0       0.82      0.98      0.89        42\n",
      "           1       0.94      0.62      0.75        24\n",
      "\n",
      "    accuracy                           0.85        66\n",
      "   macro avg       0.88      0.80      0.82        66\n",
      "weighted avg       0.86      0.85      0.84        66\n",
      "\n"
     ]
    }
   ],
   "source": [
    "#random forest\n",
    "model = RandomForestClassifier(n_estimators=100, max_depth=5, random_state=1)\n",
    "model.fit(X_train, y_train)\n",
    "y_pred = model.predict(X_test)\n",
    "\n",
    "acc_randomforest = round(accuracy_score(y_pred, y_test) * 100, 2)\n",
    "print(\"Random Forest Model Accuracy : \",acc_randomforest)\n",
    "print(classification_report(y_test, y_pred))"
   ]
  },
  {
   "cell_type": "code",
   "execution_count": 14,
   "id": "frequent-twins",
   "metadata": {
    "execution": {
     "iopub.execute_input": "2021-05-06T19:54:09.467575Z",
     "iopub.status.busy": "2021-05-06T19:54:09.466840Z",
     "iopub.status.idle": "2021-05-06T19:54:09.480819Z",
     "shell.execute_reply": "2021-05-06T19:54:09.480047Z"
    },
    "papermill": {
     "duration": 0.052428,
     "end_time": "2021-05-06T19:54:09.481022",
     "exception": false,
     "start_time": "2021-05-06T19:54:09.428594",
     "status": "completed"
    },
    "tags": []
   },
   "outputs": [
    {
     "name": "stdout",
     "output_type": "stream",
     "text": [
      "SVM Model Accuracy :  77.27\n",
      "              precision    recall  f1-score   support\n",
      "\n",
      "           0       0.76      0.93      0.84        42\n",
      "           1       0.80      0.50      0.62        24\n",
      "\n",
      "    accuracy                           0.77        66\n",
      "   macro avg       0.78      0.71      0.73        66\n",
      "weighted avg       0.78      0.77      0.76        66\n",
      "\n"
     ]
    }
   ],
   "source": [
    "#SVM Classifier\n",
    "\n",
    "from sklearn.svm import SVC  \n",
    "clf = SVC(kernel='linear') \n",
    "  \n",
    "# fitting x samples and y classes \n",
    "clf.fit(X_train, y_train) \n",
    "y_pred = clf.predict(X_test)\n",
    "\n",
    "acc_SVM = round(accuracy_score(y_pred, y_test) * 100, 2)\n",
    "print(\"SVM Model Accuracy : \",acc_SVM)\n",
    "print(classification_report(y_test, y_pred))"
   ]
  },
  {
   "cell_type": "code",
   "execution_count": 15,
   "id": "detected-opening",
   "metadata": {
    "execution": {
     "iopub.execute_input": "2021-05-06T19:54:09.553905Z",
     "iopub.status.busy": "2021-05-06T19:54:09.552855Z",
     "iopub.status.idle": "2021-05-06T19:54:09.584158Z",
     "shell.execute_reply": "2021-05-06T19:54:09.583493Z"
    },
    "papermill": {
     "duration": 0.070715,
     "end_time": "2021-05-06T19:54:09.584332",
     "exception": false,
     "start_time": "2021-05-06T19:54:09.513617",
     "status": "completed"
    },
    "tags": []
   },
   "outputs": [
    {
     "name": "stdout",
     "output_type": "stream",
     "text": [
      "Depth of the Decision Tree : 10\n",
      "accuracy_score on train dataset :  1.0\n",
      "accuracy_score on test dataset :  84.84848484848484\n",
      "              precision    recall  f1-score   support\n",
      "\n",
      "           0       0.76      0.93      0.84        42\n",
      "           1       0.80      0.50      0.62        24\n",
      "\n",
      "    accuracy                           0.77        66\n",
      "   macro avg       0.78      0.71      0.73        66\n",
      "weighted avg       0.78      0.77      0.76        66\n",
      "\n"
     ]
    }
   ],
   "source": [
    "from sklearn.tree import DecisionTreeClassifier\n",
    "\n",
    "modeldt = DecisionTreeClassifier()\n",
    "\n",
    "# fit the model with the training data\n",
    "modeldt.fit(X_train,y_train)\n",
    "\n",
    "# depth of the decision tree\n",
    "print('Depth of the Decision Tree :', modeldt.get_depth())\n",
    "\n",
    "# predict the target on the train dataset\n",
    "predict_train = modeldt.predict(X_train)\n",
    "\n",
    "# Accuray Score on train dataset\n",
    "accuracy_train = accuracy_score(y_train,predict_train)\n",
    "print('accuracy_score on train dataset : ', accuracy_train)\n",
    "\n",
    "# predict the target on the test dataset\n",
    "predict_test = model.predict(X_test)\n",
    "\n",
    "# Accuracy Score on test dataset\n",
    "accuracy_test = accuracy_score(y_test,predict_test)\n",
    "print('accuracy_score on test dataset : ', accuracy_test*100)\n",
    "print(classification_report(y_test, y_pred))"
   ]
  }
 ],
 "metadata": {
  "kernelspec": {
   "display_name": "Python 3",
   "language": "python",
   "name": "python3"
  },
  "language_info": {
   "codemirror_mode": {
    "name": "ipython",
    "version": 3
   },
   "file_extension": ".py",
   "mimetype": "text/x-python",
   "name": "python",
   "nbconvert_exporter": "python",
   "pygments_lexer": "ipython3",
   "version": "3.7.9"
  },
  "papermill": {
   "default_parameters": {},
   "duration": 12.97941,
   "end_time": "2021-05-06T19:54:10.326826",
   "environment_variables": {},
   "exception": null,
   "input_path": "__notebook__.ipynb",
   "output_path": "__notebook__.ipynb",
   "parameters": {},
   "start_time": "2021-05-06T19:53:57.347416",
   "version": "2.3.2"
  }
 },
 "nbformat": 4,
 "nbformat_minor": 5
}
