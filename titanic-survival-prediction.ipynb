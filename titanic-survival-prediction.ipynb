{
 "cells": [
  {
   "cell_type": "markdown",
   "metadata": {
    "papermill": {
     "duration": 0.025794,
     "end_time": "2021-04-01T07:13:06.245874",
     "exception": false,
     "start_time": "2021-04-01T07:13:06.220080",
     "status": "completed"
    },
    "tags": []
   },
   "source": [
    "# Titanic Competition Survival Prediction\n",
    "\n"
   ]
  },
  {
   "cell_type": "markdown",
   "metadata": {
    "papermill": {
     "duration": 0.024496,
     "end_time": "2021-04-01T07:13:06.295470",
     "exception": false,
     "start_time": "2021-04-01T07:13:06.270974",
     "status": "completed"
    },
    "tags": []
   },
   "source": [
    "![](https://upload.wikimedia.org/wikipedia/commons/6/6e/St%C3%B6wer_Titanic.jpg)\n",
    "\n",
    "source : https://en.wikipedia.org/wiki/Sinking_of_the_Titanic\n"
   ]
  },
  {
   "cell_type": "markdown",
   "metadata": {
    "papermill": {
     "duration": 0.023917,
     "end_time": "2021-04-01T07:13:06.345708",
     "exception": false,
     "start_time": "2021-04-01T07:13:06.321791",
     "status": "completed"
    },
    "tags": []
   },
   "source": [
    "## 👋💻 \n",
    "\n",
    "### **Hi there!😄 I am new to data science and this is my try on the titanic dataset. Feel free to comment if you have any questions, insights or advice on this or any data science related :) Upvote if you find my work useful for you! Thank you!**"
   ]
  },
  {
   "cell_type": "markdown",
   "metadata": {
    "papermill": {
     "duration": 0.024621,
     "end_time": "2021-04-01T07:13:06.395528",
     "exception": false,
     "start_time": "2021-04-01T07:13:06.370907",
     "status": "completed"
    },
    "tags": []
   },
   "source": [
    "### Table of Contents"
   ]
  },
  {
   "cell_type": "markdown",
   "metadata": {
    "papermill": {
     "duration": 0.023885,
     "end_time": "2021-04-01T07:13:06.444904",
     "exception": false,
     "start_time": "2021-04-01T07:13:06.421019",
     "status": "completed"
    },
    "tags": []
   },
   "source": [
    " \n"
   ]
  },
  {
   "cell_type": "markdown",
   "metadata": {
    "papermill": {
     "duration": 0.025017,
     "end_time": "2021-04-01T07:13:06.495425",
     "exception": false,
     "start_time": "2021-04-01T07:13:06.470408",
     "status": "completed"
    },
    "tags": []
   },
   "source": [
    "# **<span style=\"color:#6daa9f;\">1. IMPORT LIBRARY & PACKAGES </span>**\n"
   ]
  },
  {
   "cell_type": "code",
   "execution_count": 1,
   "metadata": {
    "execution": {
     "iopub.execute_input": "2021-04-01T07:13:06.556909Z",
     "iopub.status.busy": "2021-04-01T07:13:06.556123Z",
     "iopub.status.idle": "2021-04-01T07:13:08.076707Z",
     "shell.execute_reply": "2021-04-01T07:13:08.075897Z"
    },
    "papermill": {
     "duration": 1.554022,
     "end_time": "2021-04-01T07:13:08.076837",
     "exception": false,
     "start_time": "2021-04-01T07:13:06.522815",
     "status": "completed"
    },
    "tags": []
   },
   "outputs": [],
   "source": [
    "import seaborn as sns\n",
    "import pandas as pd\n",
    "import numpy as np\n",
    "import matplotlib.pyplot as plt\n",
    "\n",
    "#split train and test set\n",
    "from sklearn.model_selection import train_test_split\n",
    "\n",
    "#sklearn model\n",
    "from sklearn.naive_bayes import GaussianNB\n",
    "from sklearn import metrics\n",
    "from sklearn.linear_model import LogisticRegression\n",
    "from sklearn.metrics import confusion_matrix\n",
    "from sklearn.metrics import accuracy_score\n",
    "from sklearn.naive_bayes import GaussianNB\n",
    "from sklearn.ensemble import RandomForestClassifier\n"
   ]
  },
  {
   "cell_type": "markdown",
   "metadata": {
    "papermill": {
     "duration": 0.023947,
     "end_time": "2021-04-01T07:13:08.125190",
     "exception": false,
     "start_time": "2021-04-01T07:13:08.101243",
     "status": "completed"
    },
    "tags": []
   },
   "source": [
    "# **<span style=\"color:#6daa9f;\">2. LOAD DATASET </span>**\n"
   ]
  },
  {
   "cell_type": "code",
   "execution_count": 2,
   "metadata": {
    "execution": {
     "iopub.execute_input": "2021-04-01T07:13:08.181899Z",
     "iopub.status.busy": "2021-04-01T07:13:08.181247Z",
     "iopub.status.idle": "2021-04-01T07:13:08.214937Z",
     "shell.execute_reply": "2021-04-01T07:13:08.214374Z"
    },
    "papermill": {
     "duration": 0.065353,
     "end_time": "2021-04-01T07:13:08.215054",
     "exception": false,
     "start_time": "2021-04-01T07:13:08.149701",
     "status": "completed"
    },
    "tags": []
   },
   "outputs": [],
   "source": [
    "train = pd.read_csv('../input/titanic/train.csv')\n",
    "\n",
    "test = pd.read_csv('../input/titanic/test.csv')\n",
    "\n",
    "datas = [train,test]\n",
    "\n",
    "passengerid = test['PassengerId']"
   ]
  },
  {
   "cell_type": "markdown",
   "metadata": {
    "papermill": {
     "duration": 0.023395,
     "end_time": "2021-04-01T07:13:08.263059",
     "exception": false,
     "start_time": "2021-04-01T07:13:08.239664",
     "status": "completed"
    },
    "tags": []
   },
   "source": [
    "First 5 rows of training data"
   ]
  },
  {
   "cell_type": "code",
   "execution_count": 3,
   "metadata": {
    "execution": {
     "iopub.execute_input": "2021-04-01T07:13:08.327728Z",
     "iopub.status.busy": "2021-04-01T07:13:08.326753Z",
     "iopub.status.idle": "2021-04-01T07:13:08.339401Z",
     "shell.execute_reply": "2021-04-01T07:13:08.339885Z"
    },
    "papermill": {
     "duration": 0.051445,
     "end_time": "2021-04-01T07:13:08.340024",
     "exception": false,
     "start_time": "2021-04-01T07:13:08.288579",
     "status": "completed"
    },
    "tags": []
   },
   "outputs": [
    {
     "data": {
      "text/html": [
       "<div>\n",
       "<style scoped>\n",
       "    .dataframe tbody tr th:only-of-type {\n",
       "        vertical-align: middle;\n",
       "    }\n",
       "\n",
       "    .dataframe tbody tr th {\n",
       "        vertical-align: top;\n",
       "    }\n",
       "\n",
       "    .dataframe thead th {\n",
       "        text-align: right;\n",
       "    }\n",
       "</style>\n",
       "<table border=\"1\" class=\"dataframe\">\n",
       "  <thead>\n",
       "    <tr style=\"text-align: right;\">\n",
       "      <th></th>\n",
       "      <th>PassengerId</th>\n",
       "      <th>Survived</th>\n",
       "      <th>Pclass</th>\n",
       "      <th>Name</th>\n",
       "      <th>Sex</th>\n",
       "      <th>Age</th>\n",
       "      <th>SibSp</th>\n",
       "      <th>Parch</th>\n",
       "      <th>Ticket</th>\n",
       "      <th>Fare</th>\n",
       "      <th>Cabin</th>\n",
       "      <th>Embarked</th>\n",
       "    </tr>\n",
       "  </thead>\n",
       "  <tbody>\n",
       "    <tr>\n",
       "      <th>0</th>\n",
       "      <td>1</td>\n",
       "      <td>0</td>\n",
       "      <td>3</td>\n",
       "      <td>Braund, Mr. Owen Harris</td>\n",
       "      <td>male</td>\n",
       "      <td>22.0</td>\n",
       "      <td>1</td>\n",
       "      <td>0</td>\n",
       "      <td>A/5 21171</td>\n",
       "      <td>7.2500</td>\n",
       "      <td>NaN</td>\n",
       "      <td>S</td>\n",
       "    </tr>\n",
       "    <tr>\n",
       "      <th>1</th>\n",
       "      <td>2</td>\n",
       "      <td>1</td>\n",
       "      <td>1</td>\n",
       "      <td>Cumings, Mrs. John Bradley (Florence Briggs Th...</td>\n",
       "      <td>female</td>\n",
       "      <td>38.0</td>\n",
       "      <td>1</td>\n",
       "      <td>0</td>\n",
       "      <td>PC 17599</td>\n",
       "      <td>71.2833</td>\n",
       "      <td>C85</td>\n",
       "      <td>C</td>\n",
       "    </tr>\n",
       "    <tr>\n",
       "      <th>2</th>\n",
       "      <td>3</td>\n",
       "      <td>1</td>\n",
       "      <td>3</td>\n",
       "      <td>Heikkinen, Miss. Laina</td>\n",
       "      <td>female</td>\n",
       "      <td>26.0</td>\n",
       "      <td>0</td>\n",
       "      <td>0</td>\n",
       "      <td>STON/O2. 3101282</td>\n",
       "      <td>7.9250</td>\n",
       "      <td>NaN</td>\n",
       "      <td>S</td>\n",
       "    </tr>\n",
       "    <tr>\n",
       "      <th>3</th>\n",
       "      <td>4</td>\n",
       "      <td>1</td>\n",
       "      <td>1</td>\n",
       "      <td>Futrelle, Mrs. Jacques Heath (Lily May Peel)</td>\n",
       "      <td>female</td>\n",
       "      <td>35.0</td>\n",
       "      <td>1</td>\n",
       "      <td>0</td>\n",
       "      <td>113803</td>\n",
       "      <td>53.1000</td>\n",
       "      <td>C123</td>\n",
       "      <td>S</td>\n",
       "    </tr>\n",
       "    <tr>\n",
       "      <th>4</th>\n",
       "      <td>5</td>\n",
       "      <td>0</td>\n",
       "      <td>3</td>\n",
       "      <td>Allen, Mr. William Henry</td>\n",
       "      <td>male</td>\n",
       "      <td>35.0</td>\n",
       "      <td>0</td>\n",
       "      <td>0</td>\n",
       "      <td>373450</td>\n",
       "      <td>8.0500</td>\n",
       "      <td>NaN</td>\n",
       "      <td>S</td>\n",
       "    </tr>\n",
       "  </tbody>\n",
       "</table>\n",
       "</div>"
      ],
      "text/plain": [
       "   PassengerId  Survived  Pclass  \\\n",
       "0            1         0       3   \n",
       "1            2         1       1   \n",
       "2            3         1       3   \n",
       "3            4         1       1   \n",
       "4            5         0       3   \n",
       "\n",
       "                                                Name     Sex   Age  SibSp  \\\n",
       "0                            Braund, Mr. Owen Harris    male  22.0      1   \n",
       "1  Cumings, Mrs. John Bradley (Florence Briggs Th...  female  38.0      1   \n",
       "2                             Heikkinen, Miss. Laina  female  26.0      0   \n",
       "3       Futrelle, Mrs. Jacques Heath (Lily May Peel)  female  35.0      1   \n",
       "4                           Allen, Mr. William Henry    male  35.0      0   \n",
       "\n",
       "   Parch            Ticket     Fare Cabin Embarked  \n",
       "0      0         A/5 21171   7.2500   NaN        S  \n",
       "1      0          PC 17599  71.2833   C85        C  \n",
       "2      0  STON/O2. 3101282   7.9250   NaN        S  \n",
       "3      0            113803  53.1000  C123        S  \n",
       "4      0            373450   8.0500   NaN        S  "
      ]
     },
     "execution_count": 3,
     "metadata": {},
     "output_type": "execute_result"
    }
   ],
   "source": [
    "train.head()"
   ]
  },
  {
   "cell_type": "markdown",
   "metadata": {
    "papermill": {
     "duration": 0.02404,
     "end_time": "2021-04-01T07:13:08.388616",
     "exception": false,
     "start_time": "2021-04-01T07:13:08.364576",
     "status": "completed"
    },
    "tags": []
   },
   "source": [
    "First 5 rows of test data"
   ]
  },
  {
   "cell_type": "code",
   "execution_count": 4,
   "metadata": {
    "execution": {
     "iopub.execute_input": "2021-04-01T07:13:08.452713Z",
     "iopub.status.busy": "2021-04-01T07:13:08.451759Z",
     "iopub.status.idle": "2021-04-01T07:13:08.456712Z",
     "shell.execute_reply": "2021-04-01T07:13:08.456203Z"
    },
    "papermill": {
     "duration": 0.044029,
     "end_time": "2021-04-01T07:13:08.456820",
     "exception": false,
     "start_time": "2021-04-01T07:13:08.412791",
     "status": "completed"
    },
    "tags": []
   },
   "outputs": [
    {
     "data": {
      "text/html": [
       "<div>\n",
       "<style scoped>\n",
       "    .dataframe tbody tr th:only-of-type {\n",
       "        vertical-align: middle;\n",
       "    }\n",
       "\n",
       "    .dataframe tbody tr th {\n",
       "        vertical-align: top;\n",
       "    }\n",
       "\n",
       "    .dataframe thead th {\n",
       "        text-align: right;\n",
       "    }\n",
       "</style>\n",
       "<table border=\"1\" class=\"dataframe\">\n",
       "  <thead>\n",
       "    <tr style=\"text-align: right;\">\n",
       "      <th></th>\n",
       "      <th>PassengerId</th>\n",
       "      <th>Pclass</th>\n",
       "      <th>Name</th>\n",
       "      <th>Sex</th>\n",
       "      <th>Age</th>\n",
       "      <th>SibSp</th>\n",
       "      <th>Parch</th>\n",
       "      <th>Ticket</th>\n",
       "      <th>Fare</th>\n",
       "      <th>Cabin</th>\n",
       "      <th>Embarked</th>\n",
       "    </tr>\n",
       "  </thead>\n",
       "  <tbody>\n",
       "    <tr>\n",
       "      <th>0</th>\n",
       "      <td>892</td>\n",
       "      <td>3</td>\n",
       "      <td>Kelly, Mr. James</td>\n",
       "      <td>male</td>\n",
       "      <td>34.5</td>\n",
       "      <td>0</td>\n",
       "      <td>0</td>\n",
       "      <td>330911</td>\n",
       "      <td>7.8292</td>\n",
       "      <td>NaN</td>\n",
       "      <td>Q</td>\n",
       "    </tr>\n",
       "    <tr>\n",
       "      <th>1</th>\n",
       "      <td>893</td>\n",
       "      <td>3</td>\n",
       "      <td>Wilkes, Mrs. James (Ellen Needs)</td>\n",
       "      <td>female</td>\n",
       "      <td>47.0</td>\n",
       "      <td>1</td>\n",
       "      <td>0</td>\n",
       "      <td>363272</td>\n",
       "      <td>7.0000</td>\n",
       "      <td>NaN</td>\n",
       "      <td>S</td>\n",
       "    </tr>\n",
       "    <tr>\n",
       "      <th>2</th>\n",
       "      <td>894</td>\n",
       "      <td>2</td>\n",
       "      <td>Myles, Mr. Thomas Francis</td>\n",
       "      <td>male</td>\n",
       "      <td>62.0</td>\n",
       "      <td>0</td>\n",
       "      <td>0</td>\n",
       "      <td>240276</td>\n",
       "      <td>9.6875</td>\n",
       "      <td>NaN</td>\n",
       "      <td>Q</td>\n",
       "    </tr>\n",
       "    <tr>\n",
       "      <th>3</th>\n",
       "      <td>895</td>\n",
       "      <td>3</td>\n",
       "      <td>Wirz, Mr. Albert</td>\n",
       "      <td>male</td>\n",
       "      <td>27.0</td>\n",
       "      <td>0</td>\n",
       "      <td>0</td>\n",
       "      <td>315154</td>\n",
       "      <td>8.6625</td>\n",
       "      <td>NaN</td>\n",
       "      <td>S</td>\n",
       "    </tr>\n",
       "    <tr>\n",
       "      <th>4</th>\n",
       "      <td>896</td>\n",
       "      <td>3</td>\n",
       "      <td>Hirvonen, Mrs. Alexander (Helga E Lindqvist)</td>\n",
       "      <td>female</td>\n",
       "      <td>22.0</td>\n",
       "      <td>1</td>\n",
       "      <td>1</td>\n",
       "      <td>3101298</td>\n",
       "      <td>12.2875</td>\n",
       "      <td>NaN</td>\n",
       "      <td>S</td>\n",
       "    </tr>\n",
       "  </tbody>\n",
       "</table>\n",
       "</div>"
      ],
      "text/plain": [
       "   PassengerId  Pclass                                          Name     Sex  \\\n",
       "0          892       3                              Kelly, Mr. James    male   \n",
       "1          893       3              Wilkes, Mrs. James (Ellen Needs)  female   \n",
       "2          894       2                     Myles, Mr. Thomas Francis    male   \n",
       "3          895       3                              Wirz, Mr. Albert    male   \n",
       "4          896       3  Hirvonen, Mrs. Alexander (Helga E Lindqvist)  female   \n",
       "\n",
       "    Age  SibSp  Parch   Ticket     Fare Cabin Embarked  \n",
       "0  34.5      0      0   330911   7.8292   NaN        Q  \n",
       "1  47.0      1      0   363272   7.0000   NaN        S  \n",
       "2  62.0      0      0   240276   9.6875   NaN        Q  \n",
       "3  27.0      0      0   315154   8.6625   NaN        S  \n",
       "4  22.0      1      1  3101298  12.2875   NaN        S  "
      ]
     },
     "execution_count": 4,
     "metadata": {},
     "output_type": "execute_result"
    }
   ],
   "source": [
    "test.head()"
   ]
  },
  {
   "cell_type": "markdown",
   "metadata": {
    "papermill": {
     "duration": 0.025647,
     "end_time": "2021-04-01T07:13:08.509254",
     "exception": false,
     "start_time": "2021-04-01T07:13:08.483607",
     "status": "completed"
    },
    "tags": []
   },
   "source": [
    "# **<span style=\"color:#6daa9f;\">3. EXPLORATORY DATA ANALYSIS (EDA) </span>**\n",
    "\n",
    "- Data Exploration\n",
    "- Data Visualization\n",
    "- Data Cleaning"
   ]
  },
  {
   "cell_type": "code",
   "execution_count": 5,
   "metadata": {
    "execution": {
     "iopub.execute_input": "2021-04-01T07:13:08.563638Z",
     "iopub.status.busy": "2021-04-01T07:13:08.562971Z",
     "iopub.status.idle": "2021-04-01T07:13:08.566799Z",
     "shell.execute_reply": "2021-04-01T07:13:08.567385Z"
    },
    "papermill": {
     "duration": 0.033589,
     "end_time": "2021-04-01T07:13:08.567528",
     "exception": false,
     "start_time": "2021-04-01T07:13:08.533939",
     "status": "completed"
    },
    "tags": []
   },
   "outputs": [
    {
     "name": "stdout",
     "output_type": "stream",
     "text": [
      "(891, 12)\n",
      "['PassengerId', 'Survived', 'Pclass', 'Name', 'Sex', 'Age', 'SibSp', 'Parch', 'Ticket', 'Fare', 'Cabin', 'Embarked']\n"
     ]
    }
   ],
   "source": [
    "#identify column names,data type and dataset shape\n",
    "\n",
    "print(np.shape(train))\n",
    "print(train.columns.tolist())\n"
   ]
  },
  {
   "cell_type": "code",
   "execution_count": 6,
   "metadata": {
    "execution": {
     "iopub.execute_input": "2021-04-01T07:13:08.623356Z",
     "iopub.status.busy": "2021-04-01T07:13:08.622673Z",
     "iopub.status.idle": "2021-04-01T07:13:08.630008Z",
     "shell.execute_reply": "2021-04-01T07:13:08.630482Z"
    },
    "papermill": {
     "duration": 0.037382,
     "end_time": "2021-04-01T07:13:08.630646",
     "exception": false,
     "start_time": "2021-04-01T07:13:08.593264",
     "status": "completed"
    },
    "tags": []
   },
   "outputs": [
    {
     "data": {
      "text/plain": [
       "PassengerId      int64\n",
       "Survived         int64\n",
       "Pclass           int64\n",
       "Name            object\n",
       "Sex             object\n",
       "Age            float64\n",
       "SibSp            int64\n",
       "Parch            int64\n",
       "Ticket          object\n",
       "Fare           float64\n",
       "Cabin           object\n",
       "Embarked        object\n",
       "dtype: object"
      ]
     },
     "execution_count": 6,
     "metadata": {},
     "output_type": "execute_result"
    }
   ],
   "source": [
    "train.dtypes"
   ]
  },
  {
   "cell_type": "markdown",
   "metadata": {
    "papermill": {
     "duration": 0.025446,
     "end_time": "2021-04-01T07:13:08.682787",
     "exception": false,
     "start_time": "2021-04-01T07:13:08.657341",
     "status": "completed"
    },
    "tags": []
   },
   "source": [
    "Now we know that the shape of the **train dataset** is 12 column and 891 rows\n",
    "\n",
    "The column names also can be seen clearer upon the above codes\n",
    "\n",
    "Let's familiarize with the important detail of each column of the dataset\n",
    "\n",
    "* Survived - Survival of the passenger 0 as No and 1 as Yes (int64)\n",
    "* Pclass - the ticket class which have 3 values 1 - 1st, 2- 2nd, 3 -rd (int64)\n",
    "* Sex - gender of the passenger (male/ female) (object)\n",
    "* Age - age in years(int64)\n",
    "* sibsp - the number of sibling or spouse on board (int64)\n",
    "* parch - the number of parents or child on board (int 64)\n",
    "* Embarked - the port of embarkation -cherbourg,queenstown,southampton (object)"
   ]
  },
  {
   "cell_type": "markdown",
   "metadata": {
    "papermill": {
     "duration": 0.025615,
     "end_time": "2021-04-01T07:13:08.736751",
     "exception": false,
     "start_time": "2021-04-01T07:13:08.711136",
     "status": "completed"
    },
    "tags": []
   },
   "source": [
    "**Categorical Column:**\n",
    "Name,Pclass,sex\n",
    "\n",
    "**Numerical Column:**\n",
    "Age,sibsp,parch,Fare\n",
    "\n",
    "**String Column:**\n",
    "Embarked, sex, Cabin"
   ]
  },
  {
   "cell_type": "code",
   "execution_count": 7,
   "metadata": {
    "execution": {
     "iopub.execute_input": "2021-04-01T07:13:08.796275Z",
     "iopub.status.busy": "2021-04-01T07:13:08.795300Z",
     "iopub.status.idle": "2021-04-01T07:13:08.798948Z",
     "shell.execute_reply": "2021-04-01T07:13:08.799708Z"
    },
    "papermill": {
     "duration": 0.036439,
     "end_time": "2021-04-01T07:13:08.799910",
     "exception": false,
     "start_time": "2021-04-01T07:13:08.763471",
     "status": "completed"
    },
    "tags": []
   },
   "outputs": [
    {
     "name": "stdout",
     "output_type": "stream",
     "text": [
      "(418, 11)\n",
      "['PassengerId', 'Pclass', 'Name', 'Sex', 'Age', 'SibSp', 'Parch', 'Ticket', 'Fare', 'Cabin', 'Embarked']\n"
     ]
    }
   ],
   "source": [
    "#identify column names,data type and dataset shape\n",
    "\n",
    "print(np.shape(test))\n",
    "print(test.columns.tolist())"
   ]
  },
  {
   "cell_type": "code",
   "execution_count": 8,
   "metadata": {
    "execution": {
     "iopub.execute_input": "2021-04-01T07:13:08.872031Z",
     "iopub.status.busy": "2021-04-01T07:13:08.871374Z",
     "iopub.status.idle": "2021-04-01T07:13:08.896806Z",
     "shell.execute_reply": "2021-04-01T07:13:08.896092Z"
    },
    "papermill": {
     "duration": 0.066781,
     "end_time": "2021-04-01T07:13:08.896951",
     "exception": false,
     "start_time": "2021-04-01T07:13:08.830170",
     "status": "completed"
    },
    "tags": []
   },
   "outputs": [
    {
     "name": "stdout",
     "output_type": "stream",
     "text": [
      "       PassengerId    Survived      Pclass         Age       SibSp  \\\n",
      "count   891.000000  891.000000  891.000000  714.000000  891.000000   \n",
      "mean    446.000000    0.383838    2.308642   29.699118    0.523008   \n",
      "std     257.353842    0.486592    0.836071   14.526497    1.102743   \n",
      "min       1.000000    0.000000    1.000000    0.420000    0.000000   \n",
      "25%     223.500000    0.000000    2.000000   20.125000    0.000000   \n",
      "50%     446.000000    0.000000    3.000000   28.000000    0.000000   \n",
      "75%     668.500000    1.000000    3.000000   38.000000    1.000000   \n",
      "max     891.000000    1.000000    3.000000   80.000000    8.000000   \n",
      "\n",
      "            Parch        Fare  \n",
      "count  891.000000  891.000000  \n",
      "mean     0.381594   32.204208  \n",
      "std      0.806057   49.693429  \n",
      "min      0.000000    0.000000  \n",
      "25%      0.000000    7.910400  \n",
      "50%      0.000000   14.454200  \n",
      "75%      0.000000   31.000000  \n",
      "max      6.000000  512.329200  \n"
     ]
    }
   ],
   "source": [
    "#summary of variables in data\n",
    "print(train.describe())\n",
    "\n"
   ]
  },
  {
   "cell_type": "markdown",
   "metadata": {
    "papermill": {
     "duration": 0.026918,
     "end_time": "2021-04-01T07:13:08.950788",
     "exception": false,
     "start_time": "2021-04-01T07:13:08.923870",
     "status": "completed"
    },
    "tags": []
   },
   "source": [
    "From the describe method we can obtain few interesting information regarding the statistical detail of the data \n",
    "- Only 38.3% passengers survived \n",
    "- The mean age of the passengers is 30 years old while the median is 28 years old\n",
    "- The oldest passenger is 80 years old while the youngest is 0 years old"
   ]
  },
  {
   "cell_type": "code",
   "execution_count": 9,
   "metadata": {
    "execution": {
     "iopub.execute_input": "2021-04-01T07:13:09.017025Z",
     "iopub.status.busy": "2021-04-01T07:13:09.015976Z",
     "iopub.status.idle": "2021-04-01T07:13:09.030667Z",
     "shell.execute_reply": "2021-04-01T07:13:09.029987Z"
    },
    "papermill": {
     "duration": 0.053697,
     "end_time": "2021-04-01T07:13:09.030786",
     "exception": false,
     "start_time": "2021-04-01T07:13:08.977089",
     "status": "completed"
    },
    "tags": []
   },
   "outputs": [
    {
     "name": "stdout",
     "output_type": "stream",
     "text": [
      "       PassengerId      Pclass         Age       SibSp       Parch        Fare\n",
      "count   418.000000  418.000000  332.000000  418.000000  418.000000  417.000000\n",
      "mean   1100.500000    2.265550   30.272590    0.447368    0.392344   35.627188\n",
      "std     120.810458    0.841838   14.181209    0.896760    0.981429   55.907576\n",
      "min     892.000000    1.000000    0.170000    0.000000    0.000000    0.000000\n",
      "25%     996.250000    1.000000   21.000000    0.000000    0.000000    7.895800\n",
      "50%    1100.500000    3.000000   27.000000    0.000000    0.000000   14.454200\n",
      "75%    1204.750000    3.000000   39.000000    1.000000    0.000000   31.500000\n",
      "max    1309.000000    3.000000   76.000000    8.000000    9.000000  512.329200\n"
     ]
    }
   ],
   "source": [
    "#summary of variables in data\n",
    "print(test.describe())\n"
   ]
  },
  {
   "cell_type": "markdown",
   "metadata": {
    "papermill": {
     "duration": 0.033483,
     "end_time": "2021-04-01T07:13:09.091148",
     "exception": false,
     "start_time": "2021-04-01T07:13:09.057665",
     "status": "completed"
    },
    "tags": []
   },
   "source": [
    "### Identifying missing values in dataset"
   ]
  },
  {
   "cell_type": "code",
   "execution_count": 10,
   "metadata": {
    "execution": {
     "iopub.execute_input": "2021-04-01T07:13:09.157195Z",
     "iopub.status.busy": "2021-04-01T07:13:09.156179Z",
     "iopub.status.idle": "2021-04-01T07:13:09.160611Z",
     "shell.execute_reply": "2021-04-01T07:13:09.160076Z"
    },
    "papermill": {
     "duration": 0.040529,
     "end_time": "2021-04-01T07:13:09.160725",
     "exception": false,
     "start_time": "2021-04-01T07:13:09.120196",
     "status": "completed"
    },
    "tags": []
   },
   "outputs": [
    {
     "data": {
      "text/plain": [
       "PassengerId      0\n",
       "Survived         0\n",
       "Pclass           0\n",
       "Name             0\n",
       "Sex              0\n",
       "Age            177\n",
       "SibSp            0\n",
       "Parch            0\n",
       "Ticket           0\n",
       "Fare             0\n",
       "Cabin          687\n",
       "Embarked         2\n",
       "dtype: int64"
      ]
     },
     "execution_count": 10,
     "metadata": {},
     "output_type": "execute_result"
    }
   ],
   "source": [
    "train.isnull().sum()"
   ]
  },
  {
   "cell_type": "markdown",
   "metadata": {
    "papermill": {
     "duration": 0.02826,
     "end_time": "2021-04-01T07:13:09.217480",
     "exception": false,
     "start_time": "2021-04-01T07:13:09.189220",
     "status": "completed"
    },
    "tags": []
   },
   "source": [
    "From here we can see that in our train data, 3 columns contains missing values which are cabin,embarked and age column\n"
   ]
  },
  {
   "cell_type": "code",
   "execution_count": 11,
   "metadata": {
    "execution": {
     "iopub.execute_input": "2021-04-01T07:13:09.282651Z",
     "iopub.status.busy": "2021-04-01T07:13:09.281666Z",
     "iopub.status.idle": "2021-04-01T07:13:09.286873Z",
     "shell.execute_reply": "2021-04-01T07:13:09.286250Z"
    },
    "papermill": {
     "duration": 0.040749,
     "end_time": "2021-04-01T07:13:09.286986",
     "exception": false,
     "start_time": "2021-04-01T07:13:09.246237",
     "status": "completed"
    },
    "tags": []
   },
   "outputs": [
    {
     "data": {
      "text/plain": [
       "PassengerId      0\n",
       "Pclass           0\n",
       "Name             0\n",
       "Sex              0\n",
       "Age             86\n",
       "SibSp            0\n",
       "Parch            0\n",
       "Ticket           0\n",
       "Fare             1\n",
       "Cabin          327\n",
       "Embarked         0\n",
       "dtype: int64"
      ]
     },
     "execution_count": 11,
     "metadata": {},
     "output_type": "execute_result"
    }
   ],
   "source": [
    "test.isnull().sum()"
   ]
  },
  {
   "cell_type": "markdown",
   "metadata": {
    "papermill": {
     "duration": 0.028375,
     "end_time": "2021-04-01T07:13:09.343616",
     "exception": false,
     "start_time": "2021-04-01T07:13:09.315241",
     "status": "completed"
    },
    "tags": []
   },
   "source": [
    "Missing values in test data is a bit different from train data\n",
    "-missing values in cabin,fare and age"
   ]
  },
  {
   "cell_type": "markdown",
   "metadata": {
    "papermill": {
     "duration": 0.029775,
     "end_time": "2021-04-01T07:13:09.402448",
     "exception": false,
     "start_time": "2021-04-01T07:13:09.372673",
     "status": "completed"
    },
    "tags": []
   },
   "source": [
    "### Handling Missing Values \n",
    "\n",
    "- remove column cabin - missing values almost 77 percent of the data\n",
    "- age column with be handle using imputation by having the missing values filled with the age median\n",
    "- missing value for fare in test data with filled with mean value for fare\n",
    "- embarked which means the place of that the passenger embarked from we will use mode to fill in missing value\n",
    "\n",
    "I will also remove the column PassengerId,ticket and cabin as it does not relate to the survival of a passenger"
   ]
  },
  {
   "cell_type": "code",
   "execution_count": 12,
   "metadata": {
    "execution": {
     "iopub.execute_input": "2021-04-01T07:13:09.471456Z",
     "iopub.status.busy": "2021-04-01T07:13:09.468762Z",
     "iopub.status.idle": "2021-04-01T07:13:09.480162Z",
     "shell.execute_reply": "2021-04-01T07:13:09.479456Z"
    },
    "papermill": {
     "duration": 0.049114,
     "end_time": "2021-04-01T07:13:09.480318",
     "exception": false,
     "start_time": "2021-04-01T07:13:09.431204",
     "status": "completed"
    },
    "tags": []
   },
   "outputs": [],
   "source": [
    "for data in datas:\n",
    "    \n",
    "    data['Age'].fillna(value= data['Age'].median(),inplace=True)\n",
    "    data['Embarked'].fillna(value = data['Embarked'].mode()[0],inplace = True)\n",
    "    data['Fare'].fillna(value = data['Fare'].mean(),inplace = True)\n",
    "    data.drop(['Cabin','Ticket','PassengerId'],axis=1,inplace=True)"
   ]
  },
  {
   "cell_type": "markdown",
   "metadata": {
    "papermill": {
     "duration": 0.028238,
     "end_time": "2021-04-01T07:13:09.536839",
     "exception": false,
     "start_time": "2021-04-01T07:13:09.508601",
     "status": "completed"
    },
    "tags": []
   },
   "source": [
    "## Data Visualization\n",
    "\n",
    "Visualizing Data to view trends and produce more insights on the data"
   ]
  },
  {
   "cell_type": "markdown",
   "metadata": {
    "papermill": {
     "duration": 0.028285,
     "end_time": "2021-04-01T07:13:09.594916",
     "exception": false,
     "start_time": "2021-04-01T07:13:09.566631",
     "status": "completed"
    },
    "tags": []
   },
   "source": [
    "**Sex feature**"
   ]
  },
  {
   "cell_type": "code",
   "execution_count": 13,
   "metadata": {
    "execution": {
     "iopub.execute_input": "2021-04-01T07:13:09.666458Z",
     "iopub.status.busy": "2021-04-01T07:13:09.665229Z",
     "iopub.status.idle": "2021-04-01T07:13:09.895194Z",
     "shell.execute_reply": "2021-04-01T07:13:09.894204Z"
    },
    "papermill": {
     "duration": 0.270243,
     "end_time": "2021-04-01T07:13:09.895525",
     "exception": false,
     "start_time": "2021-04-01T07:13:09.625282",
     "status": "completed"
    },
    "tags": []
   },
   "outputs": [
    {
     "data": {
      "image/png": "[encoded data removed]",
      "text/plain": [
       "<Figure size 432x288 with 1 Axes>"
      ]
     },
     "metadata": {
      "needs_background": "light"
     },
     "output_type": "display_data"
    },
    {
     "name": "stdout",
     "output_type": "stream",
     "text": [
      "Sex       female  male\n",
      "Survived              \n",
      "0             81   468\n",
      "1            233   109\n"
     ]
    }
   ],
   "source": [
    "#sex feature by survival\n",
    "\n",
    "sns.countplot(x=\"Sex\", data=train, hue=\"Survived\",palette=\"hls\") \n",
    "plt.show()\n",
    "print(pd.crosstab(train['Survived'],train['Sex']))"
   ]
  },
  {
   "cell_type": "markdown",
   "metadata": {
    "papermill": {
     "duration": 0.04016,
     "end_time": "2021-04-01T07:13:09.981993",
     "exception": false,
     "start_time": "2021-04-01T07:13:09.941833",
     "status": "completed"
    },
    "tags": []
   },
   "source": [
    "Apparently female have higher survival count than the male."
   ]
  },
  {
   "cell_type": "markdown",
   "metadata": {
    "papermill": {
     "duration": 0.029778,
     "end_time": "2021-04-01T07:13:10.047729",
     "exception": false,
     "start_time": "2021-04-01T07:13:10.017951",
     "status": "completed"
    },
    "tags": []
   },
   "source": [
    "**Pclass Feature**\n",
    "\n",
    "Pclass feature which have value of 1,2,3 represents a social status in the ship therefore we can see if people in higher class have higher survived than the lower ones"
   ]
  },
  {
   "cell_type": "code",
   "execution_count": 14,
   "metadata": {
    "execution": {
     "iopub.execute_input": "2021-04-01T07:13:10.112705Z",
     "iopub.status.busy": "2021-04-01T07:13:10.112009Z",
     "iopub.status.idle": "2021-04-01T07:13:10.286295Z",
     "shell.execute_reply": "2021-04-01T07:13:10.287548Z"
    },
    "papermill": {
     "duration": 0.209977,
     "end_time": "2021-04-01T07:13:10.287765",
     "exception": false,
     "start_time": "2021-04-01T07:13:10.077788",
     "status": "completed"
    },
    "tags": []
   },
   "outputs": [
    {
     "data": {
      "image/png": "[encoded data removed]",
      "text/plain": [
       "<Figure size 432x288 with 1 Axes>"
      ]
     },
     "metadata": {
      "needs_background": "light"
     },
     "output_type": "display_data"
    },
    {
     "name": "stdout",
     "output_type": "stream",
     "text": [
      "Pclass      1   2    3\n",
      "Survived              \n",
      "0          80  97  372\n",
      "1         136  87  119\n"
     ]
    }
   ],
   "source": [
    "#Pclass feature by survival\n",
    "\n",
    "sns.countplot(x=\"Pclass\", data=train, hue=\"Survived\",palette=\"hls\") \n",
    "plt.show()\n",
    "print(pd.crosstab(train['Survived'],train['Pclass']))"
   ]
  },
  {
   "cell_type": "markdown",
   "metadata": {
    "papermill": {
     "duration": 0.032314,
     "end_time": "2021-04-01T07:13:10.352898",
     "exception": false,
     "start_time": "2021-04-01T07:13:10.320584",
     "status": "completed"
    },
    "tags": []
   },
   "source": [
    "From here we can see that passenger in first class have the highest survive count than other classes which followed by 3rd class and second class"
   ]
  },
  {
   "cell_type": "markdown",
   "metadata": {
    "papermill": {
     "duration": 0.030163,
     "end_time": "2021-04-01T07:13:10.414453",
     "exception": false,
     "start_time": "2021-04-01T07:13:10.384290",
     "status": "completed"
    },
    "tags": []
   },
   "source": [
    "It is important that we ensure that our values are all in numerics therefore I am mapping strings values in column to numeric so that the model can interpret the data"
   ]
  },
  {
   "cell_type": "code",
   "execution_count": 15,
   "metadata": {
    "execution": {
     "iopub.execute_input": "2021-04-01T07:13:10.487493Z",
     "iopub.status.busy": "2021-04-01T07:13:10.486855Z",
     "iopub.status.idle": "2021-04-01T07:13:10.490153Z",
     "shell.execute_reply": "2021-04-01T07:13:10.489541Z"
    },
    "papermill": {
     "duration": 0.045834,
     "end_time": "2021-04-01T07:13:10.490291",
     "exception": false,
     "start_time": "2021-04-01T07:13:10.444457",
     "status": "completed"
    },
    "tags": []
   },
   "outputs": [],
   "source": [
    "\n",
    "for data in datas:\n",
    "    #map each Sex value to a numerical value\n",
    "    sex_mapping = {\"male\": 1, \"female\": 0}\n",
    "    data['Sex'] = data['Sex'].map(sex_mapping)\n",
    "    \n",
    "    #map each embarked value to a numerical value\n",
    "    embark_mapping = {\"S\": 1, \"C\": 2,\"Q\":3}\n",
    "    data['Embarked'] = data['Embarked'].map(embark_mapping)"
   ]
  },
  {
   "cell_type": "markdown",
   "metadata": {
    "papermill": {
     "duration": 0.031211,
     "end_time": "2021-04-01T07:13:10.552459",
     "exception": false,
     "start_time": "2021-04-01T07:13:10.521248",
     "status": "completed"
    },
    "tags": []
   },
   "source": [
    "**Name Feature**\n",
    "\n",
    "> Name column can be considered important in the prediction as we can assume that people with higher titles and positions are more likely to be saved and survived during an incident"
   ]
  },
  {
   "cell_type": "code",
   "execution_count": 16,
   "metadata": {
    "execution": {
     "iopub.execute_input": "2021-04-01T07:13:10.617049Z",
     "iopub.status.busy": "2021-04-01T07:13:10.616138Z",
     "iopub.status.idle": "2021-04-01T07:13:10.634355Z",
     "shell.execute_reply": "2021-04-01T07:13:10.634847Z"
    },
    "papermill": {
     "duration": 0.052004,
     "end_time": "2021-04-01T07:13:10.635017",
     "exception": false,
     "start_time": "2021-04-01T07:13:10.583013",
     "status": "completed"
    },
    "tags": []
   },
   "outputs": [
    {
     "name": "stdout",
     "output_type": "stream",
     "text": [
      "Mr          517\n",
      "Miss        182\n",
      "Mrs         125\n",
      "Master       40\n",
      "Dr            7\n",
      "Rev           6\n",
      "Mlle          2\n",
      "Major         2\n",
      "Col           2\n",
      "Don           1\n",
      "Capt          1\n",
      "Lady          1\n",
      "Countess      1\n",
      "Jonkheer      1\n",
      "Sir           1\n",
      "Mme           1\n",
      "Ms            1\n",
      "Name: Title, dtype: int64\n"
     ]
    },
    {
     "data": {
      "text/plain": [
       "Mr        240\n",
       "Miss       78\n",
       "Mrs        72\n",
       "Master     21\n",
       "Rev         2\n",
       "Col         2\n",
       "Dona        1\n",
       "Dr          1\n",
       "Ms          1\n",
       "Name: Title, dtype: int64"
      ]
     },
     "execution_count": 16,
     "metadata": {},
     "output_type": "execute_result"
    }
   ],
   "source": [
    "for data in datas:\n",
    "    \n",
    "    data['Title'] = data.Name.str.extract('([A-Za-z]+)\\.', expand=False)\n",
    "    \n",
    "print(train['Title'].value_counts())\n",
    "test['Title'].value_counts()\n"
   ]
  },
  {
   "cell_type": "markdown",
   "metadata": {
    "papermill": {
     "duration": 0.030736,
     "end_time": "2021-04-01T07:13:10.698815",
     "exception": false,
     "start_time": "2021-04-01T07:13:10.668079",
     "status": "completed"
    },
    "tags": []
   },
   "source": [
    "Above we can see many titles and their occurrences in the data\n",
    "\n",
    "- I will combine certain titles from the unique values we have seen and group them so that the title for groups will be only be a few signifficant ones\n",
    "- The title group will then be converted to numeric as to a format that can be feed to our model\n"
   ]
  },
  {
   "cell_type": "code",
   "execution_count": 17,
   "metadata": {
    "execution": {
     "iopub.execute_input": "2021-04-01T07:13:10.776972Z",
     "iopub.status.busy": "2021-04-01T07:13:10.776329Z",
     "iopub.status.idle": "2021-04-01T07:13:10.778742Z",
     "shell.execute_reply": "2021-04-01T07:13:10.779167Z"
    },
    "papermill": {
     "duration": 0.049103,
     "end_time": "2021-04-01T07:13:10.779326",
     "exception": false,
     "start_time": "2021-04-01T07:13:10.730223",
     "status": "completed"
    },
    "tags": []
   },
   "outputs": [],
   "source": [
    "title_mapping = {\"Mr\": 1, \"Miss\": 2, \"Mrs\": 3, \"Master\": 4, \"Royal\": 5, \"Rare\": 6}\n",
    "\n",
    "for data in datas:\n",
    "    \n",
    "    data['Title'] = data['Title'].replace(['Lady', 'Capt', 'Col',\n",
    "    'Don', 'Dr', 'Major', 'Rev', 'Jonkheer', 'Dona'], 'Rare')\n",
    "    \n",
    "    data['Title'] = data['Title'].replace(['Countess', 'Lady', 'Sir'], 'Royal')\n",
    "    data['Title'] = data['Title'].replace('Mlle', 'Miss')\n",
    "    data['Title'] = data['Title'].replace('Ms', 'Miss')\n",
    "    data['Title'] = data['Title'].replace('Mme', 'Mrs')\n",
    "    \n",
    "   "
   ]
  },
  {
   "cell_type": "markdown",
   "metadata": {
    "papermill": {
     "duration": 0.031186,
     "end_time": "2021-04-01T07:13:10.841687",
     "exception": false,
     "start_time": "2021-04-01T07:13:10.810501",
     "status": "completed"
    },
    "tags": []
   },
   "source": [
    "**Title Feature**\n",
    "\n",
    "Let's see if people with different title effects their survival during the sinking"
   ]
  },
  {
   "cell_type": "code",
   "execution_count": 18,
   "metadata": {
    "execution": {
     "iopub.execute_input": "2021-04-01T07:13:10.911915Z",
     "iopub.status.busy": "2021-04-01T07:13:10.911209Z",
     "iopub.status.idle": "2021-04-01T07:13:11.189470Z",
     "shell.execute_reply": "2021-04-01T07:13:11.188351Z"
    },
    "papermill": {
     "duration": 0.316515,
     "end_time": "2021-04-01T07:13:11.189663",
     "exception": false,
     "start_time": "2021-04-01T07:13:10.873148",
     "status": "completed"
    },
    "tags": []
   },
   "outputs": [
    {
     "data": {
      "image/png": "[encoded data removed]",
      "text/plain": [
       "<Figure size 432x288 with 1 Axes>"
      ]
     },
     "metadata": {
      "needs_background": "light"
     },
     "output_type": "display_data"
    },
    {
     "name": "stdout",
     "output_type": "stream",
     "text": [
      "Title     Master  Miss   Mr  Mrs  Rare  Royal\n",
      "Survived                                     \n",
      "0             17    55  436   26    15      0\n",
      "1             23   130   81  100     6      2\n",
      "\n",
      "The Probability of Survival according to title\n",
      "Title\n",
      "Master    0.575000\n",
      "Miss      0.702703\n",
      "Mr        0.156673\n",
      "Mrs       0.793651\n",
      "Rare      0.285714\n",
      "Royal     1.000000\n",
      "Name: Survived, dtype: float64\n"
     ]
    }
   ],
   "source": [
    "#Pclass feature by survival\n",
    "\n",
    "sns.countplot(x=\"Title\", data=train, hue=\"Survived\",palette=\"hls\") \n",
    "plt.show()\n",
    "print(pd.crosstab(train['Survived'],train['Title']))\n",
    "print('\\nThe Probability of Survival according to title')\n",
    "print(train.groupby('Title')['Survived'].mean())"
   ]
  },
  {
   "cell_type": "markdown",
   "metadata": {
    "papermill": {
     "duration": 0.035395,
     "end_time": "2021-04-01T07:13:11.258719",
     "exception": false,
     "start_time": "2021-04-01T07:13:11.223324",
     "status": "completed"
    },
    "tags": []
   },
   "source": [
    "Interesting findings we have here..\n",
    "\n",
    "- Women and children have the highest survival probability \n",
    "- Passenger with the title royal are all saved although there are only 2 of them in the ship (make sense)"
   ]
  },
  {
   "cell_type": "code",
   "execution_count": 19,
   "metadata": {
    "execution": {
     "iopub.execute_input": "2021-04-01T07:13:11.337198Z",
     "iopub.status.busy": "2021-04-01T07:13:11.336540Z",
     "iopub.status.idle": "2021-04-01T07:13:11.339273Z",
     "shell.execute_reply": "2021-04-01T07:13:11.339711Z"
    },
    "papermill": {
     "duration": 0.046005,
     "end_time": "2021-04-01T07:13:11.339937",
     "exception": false,
     "start_time": "2021-04-01T07:13:11.293932",
     "status": "completed"
    },
    "tags": []
   },
   "outputs": [],
   "source": [
    "#map title value to numeric\n",
    "    \n",
    "train['Title'] = train['Title'].map(title_mapping)\n",
    "test['Title'] = test['Title'].map(title_mapping)\n"
   ]
  },
  {
   "cell_type": "code",
   "execution_count": 20,
   "metadata": {
    "execution": {
     "iopub.execute_input": "2021-04-01T07:13:11.419315Z",
     "iopub.status.busy": "2021-04-01T07:13:11.418661Z",
     "iopub.status.idle": "2021-04-01T07:13:11.423080Z",
     "shell.execute_reply": "2021-04-01T07:13:11.423791Z"
    },
    "papermill": {
     "duration": 0.049711,
     "end_time": "2021-04-01T07:13:11.423979",
     "exception": false,
     "start_time": "2021-04-01T07:13:11.374268",
     "status": "completed"
    },
    "tags": []
   },
   "outputs": [
    {
     "name": "stdout",
     "output_type": "stream",
     "text": [
      "Survived    0\n",
      "Pclass      0\n",
      "Name        0\n",
      "Sex         0\n",
      "Age         0\n",
      "SibSp       0\n",
      "Parch       0\n",
      "Fare        0\n",
      "Embarked    0\n",
      "Title       0\n",
      "dtype: int64\n"
     ]
    },
    {
     "data": {
      "text/plain": [
       "Pclass      0\n",
       "Name        0\n",
       "Sex         0\n",
       "Age         0\n",
       "SibSp       0\n",
       "Parch       0\n",
       "Fare        0\n",
       "Embarked    0\n",
       "Title       0\n",
       "dtype: int64"
      ]
     },
     "execution_count": 20,
     "metadata": {},
     "output_type": "execute_result"
    }
   ],
   "source": [
    "print(train.isnull().sum())\n",
    "test.isnull().sum()"
   ]
  },
  {
   "cell_type": "markdown",
   "metadata": {
    "papermill": {
     "duration": 0.034101,
     "end_time": "2021-04-01T07:13:11.494799",
     "exception": false,
     "start_time": "2021-04-01T07:13:11.460698",
     "status": "completed"
    },
    "tags": []
   },
   "source": [
    "### Correlation Matrix\n",
    "\n",
    "We use it to measure correlation of two numerical variables to find an insight about their relationships. On a dataset with many attributes, the set of correlation values between pairs of its attributes form a matrix which is called a correlation matrix.\n",
    "\n",
    "So we will use the correlation matric to find insight about their relationships, since we have changed all our column to numeric therefore we can now draw some insights from this "
   ]
  },
  {
   "cell_type": "code",
   "execution_count": 21,
   "metadata": {
    "execution": {
     "iopub.execute_input": "2021-04-01T07:13:11.567286Z",
     "iopub.status.busy": "2021-04-01T07:13:11.566608Z",
     "iopub.status.idle": "2021-04-01T07:13:12.064478Z",
     "shell.execute_reply": "2021-04-01T07:13:12.064968Z"
    },
    "papermill": {
     "duration": 0.537666,
     "end_time": "2021-04-01T07:13:12.065122",
     "exception": false,
     "start_time": "2021-04-01T07:13:11.527456",
     "status": "completed"
    },
    "tags": []
   },
   "outputs": [
    {
     "data": {
      "image/png": "[encoded data removed]",
      "text/plain": [
       "<Figure size 864x360 with 2 Axes>"
      ]
     },
     "metadata": {
      "needs_background": "light"
     },
     "output_type": "display_data"
    }
   ],
   "source": [
    "#correlation matrix\n",
    "plt.figure(figsize=(12,5))\n",
    "corrMatrix = train.corr()\n",
    "sns.heatmap(corrMatrix, annot=True)\n",
    "plt.show()\n"
   ]
  },
  {
   "cell_type": "markdown",
   "metadata": {
    "papermill": {
     "duration": 0.034238,
     "end_time": "2021-04-01T07:13:12.136875",
     "exception": false,
     "start_time": "2021-04-01T07:13:12.102637",
     "status": "completed"
    },
    "tags": []
   },
   "source": [
    "Note: Lighter color represents positive correlation, darker color represents negative correlation\n",
    "\n",
    "Insights we can draw from the matrix :\n",
    "\n",
    "1. Survived and Sex feature have high negative correlation\n",
    "2. Title have high positive correlation with survived\n",
    "3. Pclass feature have second highest negative correlation with the survival\n",
    "4. Features that have high correlation with survival are sex, Pclass, Fare, Embarked and Title\n",
    "\n",
    "Basically all of the features in the data are helpful in determining the survival of a passenger "
   ]
  },
  {
   "cell_type": "markdown",
   "metadata": {
    "papermill": {
     "duration": 0.035586,
     "end_time": "2021-04-01T07:13:12.209355",
     "exception": false,
     "start_time": "2021-04-01T07:13:12.173769",
     "status": "completed"
    },
    "tags": []
   },
   "source": [
    "# **<span style=\"color:#6daa9f;\">CHOOSE BEST MODEL </span>**\n"
   ]
  },
  {
   "cell_type": "markdown",
   "metadata": {
    "papermill": {
     "duration": 0.03524,
     "end_time": "2021-04-01T07:13:12.280905",
     "exception": false,
     "start_time": "2021-04-01T07:13:12.245665",
     "status": "completed"
    },
    "tags": []
   },
   "source": [
    "Split training data"
   ]
  },
  {
   "cell_type": "code",
   "execution_count": 22,
   "metadata": {
    "execution": {
     "iopub.execute_input": "2021-04-01T07:13:12.362369Z",
     "iopub.status.busy": "2021-04-01T07:13:12.361514Z",
     "iopub.status.idle": "2021-04-01T07:13:12.364332Z",
     "shell.execute_reply": "2021-04-01T07:13:12.364727Z"
    },
    "papermill": {
     "duration": 0.047637,
     "end_time": "2021-04-01T07:13:12.364865",
     "exception": false,
     "start_time": "2021-04-01T07:13:12.317228",
     "status": "completed"
    },
    "tags": []
   },
   "outputs": [],
   "source": [
    "predictors = train.drop(['Survived','Name'], axis=1)\n",
    "target = train[\"Survived\"]\n",
    "X_train, X_tests, y_train, y_tests = train_test_split(predictors, target, test_size = 0.22, random_state = 0)\n",
    "\n",
    "from sklearn.preprocessing import StandardScaler\n",
    "#sc_x = StandardScaler()\n",
    "#X_train = sc_x.fit_transform(X_train) "
   ]
  },
  {
   "cell_type": "markdown",
   "metadata": {
    "papermill": {
     "duration": 0.0354,
     "end_time": "2021-04-01T07:13:12.434817",
     "exception": false,
     "start_time": "2021-04-01T07:13:12.399417",
     "status": "completed"
    },
    "tags": []
   },
   "source": [
    "Test Models\n",
    "\n",
    "* Naive Bayes\n",
    "* Random Forest\n",
    "* Logistic Regression\n",
    "* SVM\n",
    "* Decision Trees"
   ]
  },
  {
   "cell_type": "code",
   "execution_count": 23,
   "metadata": {
    "execution": {
     "iopub.execute_input": "2021-04-01T07:13:12.507453Z",
     "iopub.status.busy": "2021-04-01T07:13:12.506429Z",
     "iopub.status.idle": "2021-04-01T07:13:12.519979Z",
     "shell.execute_reply": "2021-04-01T07:13:12.519068Z"
    },
    "papermill": {
     "duration": 0.051133,
     "end_time": "2021-04-01T07:13:12.520151",
     "exception": false,
     "start_time": "2021-04-01T07:13:12.469018",
     "status": "completed"
    },
    "tags": []
   },
   "outputs": [
    {
     "name": "stdout",
     "output_type": "stream",
     "text": [
      "Gaussian Naive Bayes model accuracy(in %): 78.68020304568529\n"
     ]
    }
   ],
   "source": [
    "#gaussian naive bayes\n",
    "gnb = GaussianNB()\n",
    "gnb.fit(X_train, y_train)\n",
    "  \n",
    "# making predictions on the testing set\n",
    "y_pred = gnb.predict(X_tests)\n",
    "  \n",
    "# comparing actual response values (y_test) with predicted response values (y_pred)\n",
    "acc_naivebayes = metrics.accuracy_score(y_tests, y_pred)*100\n",
    "print(\"Gaussian Naive Bayes model accuracy(in %):\",acc_naivebayes )"
   ]
  },
  {
   "cell_type": "code",
   "execution_count": 24,
   "metadata": {
    "execution": {
     "iopub.execute_input": "2021-04-01T07:13:12.602334Z",
     "iopub.status.busy": "2021-04-01T07:13:12.601625Z",
     "iopub.status.idle": "2021-04-01T07:13:12.800855Z",
     "shell.execute_reply": "2021-04-01T07:13:12.801316Z"
    },
    "papermill": {
     "duration": 0.244803,
     "end_time": "2021-04-01T07:13:12.801468",
     "exception": false,
     "start_time": "2021-04-01T07:13:12.556665",
     "status": "completed"
    },
    "tags": []
   },
   "outputs": [
    {
     "name": "stdout",
     "output_type": "stream",
     "text": [
      "[[100  24]\n",
      " [ 17  56]]\n",
      "Logistic Regression model Accuracy :  79.19\n"
     ]
    },
    {
     "name": "stderr",
     "output_type": "stream",
     "text": [
      "/opt/conda/lib/python3.7/site-packages/sklearn/linear_model/_logistic.py:764: ConvergenceWarning: lbfgs failed to converge (status=1):\n",
      "STOP: TOTAL NO. of ITERATIONS REACHED LIMIT.\n",
      "\n",
      "Increase the number of iterations (max_iter) or scale the data as shown in:\n",
      "    https://scikit-learn.org/stable/modules/preprocessing.html\n",
      "Please also refer to the documentation for alternative solver options:\n",
      "    https://scikit-learn.org/stable/modules/linear_model.html#logistic-regression\n",
      "  extra_warning_msg=_LOGISTIC_SOLVER_CONVERGENCE_MSG)\n"
     ]
    },
    {
     "data": {
      "image/png": "[encoded data removed]",
      "text/plain": [
       "<Figure size 432x288 with 2 Axes>"
      ]
     },
     "metadata": {
      "needs_background": "light"
     },
     "output_type": "display_data"
    }
   ],
   "source": [
    "#logistic regression \n",
    "\n",
    "classifier = LogisticRegression(random_state = 22)\n",
    "classifier.fit(X_train, y_train)\n",
    "\n",
    "y_pred = classifier.predict(X_tests)\n",
    "\n",
    "cm = confusion_matrix(y_tests, y_pred)\n",
    "print(cm)\n",
    "sns.heatmap(cm, annot=True)\n",
    "\n",
    "acc_logisticregression = round(accuracy_score(y_pred, y_tests) * 100, 2)\n",
    "print (\"Logistic Regression model Accuracy : \", acc_logisticregression) "
   ]
  },
  {
   "cell_type": "code",
   "execution_count": 25,
   "metadata": {
    "execution": {
     "iopub.execute_input": "2021-04-01T07:13:12.881389Z",
     "iopub.status.busy": "2021-04-01T07:13:12.880732Z",
     "iopub.status.idle": "2021-04-01T07:13:13.056359Z",
     "shell.execute_reply": "2021-04-01T07:13:13.056881Z"
    },
    "papermill": {
     "duration": 0.219945,
     "end_time": "2021-04-01T07:13:13.057026",
     "exception": false,
     "start_time": "2021-04-01T07:13:12.837081",
     "status": "completed"
    },
    "tags": []
   },
   "outputs": [
    {
     "name": "stdout",
     "output_type": "stream",
     "text": [
      "Random Forest Model Accuracy :  81.73\n"
     ]
    }
   ],
   "source": [
    "#random forest\n",
    "model = RandomForestClassifier(n_estimators=100, max_depth=5, random_state=1)\n",
    "model.fit(X_train, y_train)\n",
    "y_pred = model.predict(X_tests)\n",
    "\n",
    "acc_randomforest = round(accuracy_score(y_pred, y_tests) * 100, 2)\n",
    "print(\"Random Forest Model Accuracy : \",acc_randomforest)\n"
   ]
  },
  {
   "cell_type": "code",
   "execution_count": 26,
   "metadata": {
    "execution": {
     "iopub.execute_input": "2021-04-01T07:13:13.141673Z",
     "iopub.status.busy": "2021-04-01T07:13:13.140948Z",
     "iopub.status.idle": "2021-04-01T07:13:15.787700Z",
     "shell.execute_reply": "2021-04-01T07:13:15.788184Z"
    },
    "papermill": {
     "duration": 2.693775,
     "end_time": "2021-04-01T07:13:15.788358",
     "exception": false,
     "start_time": "2021-04-01T07:13:13.094583",
     "status": "completed"
    },
    "tags": []
   },
   "outputs": [
    {
     "name": "stdout",
     "output_type": "stream",
     "text": [
      "SVM Model Accuracy :  79.19\n"
     ]
    }
   ],
   "source": [
    "#SVM Classifier\n",
    "\n",
    "from sklearn.svm import SVC  \n",
    "clf = SVC(kernel='linear') \n",
    "  \n",
    "# fitting x samples and y classes \n",
    "clf.fit(X_train, y_train) \n",
    "y_pred = clf.predict(X_tests)\n",
    "\n",
    "acc_SVM = round(accuracy_score(y_pred, y_tests) * 100, 2)\n",
    "print(\"SVM Model Accuracy : \",acc_SVM)\n"
   ]
  },
  {
   "cell_type": "markdown",
   "metadata": {
    "papermill": {
     "duration": 0.035963,
     "end_time": "2021-04-01T07:13:15.860753",
     "exception": false,
     "start_time": "2021-04-01T07:13:15.824790",
     "status": "completed"
    },
    "tags": []
   },
   "source": [
    "The model with the best accuracy goes to random forest"
   ]
  },
  {
   "cell_type": "markdown",
   "metadata": {
    "papermill": {
     "duration": 0.036755,
     "end_time": "2021-04-01T07:13:15.933500",
     "exception": false,
     "start_time": "2021-04-01T07:13:15.896745",
     "status": "completed"
    },
    "tags": []
   },
   "source": [
    "Predict Passenger Survival Using chosen model using test data "
   ]
  },
  {
   "cell_type": "code",
   "execution_count": 27,
   "metadata": {
    "execution": {
     "iopub.execute_input": "2021-04-01T07:13:16.013095Z",
     "iopub.status.busy": "2021-04-01T07:13:16.012489Z",
     "iopub.status.idle": "2021-04-01T07:13:16.030225Z",
     "shell.execute_reply": "2021-04-01T07:13:16.030674Z"
    },
    "papermill": {
     "duration": 0.060507,
     "end_time": "2021-04-01T07:13:16.030842",
     "exception": false,
     "start_time": "2021-04-01T07:13:15.970335",
     "status": "completed"
    },
    "tags": []
   },
   "outputs": [],
   "source": [
    "X_test = test.drop(['Name'], axis=1)\n",
    "predictions = model.predict(X_test)"
   ]
  },
  {
   "cell_type": "code",
   "execution_count": 28,
   "metadata": {
    "execution": {
     "iopub.execute_input": "2021-04-01T07:13:16.111031Z",
     "iopub.status.busy": "2021-04-01T07:13:16.110287Z",
     "iopub.status.idle": "2021-04-01T07:13:16.406320Z",
     "shell.execute_reply": "2021-04-01T07:13:16.406825Z"
    },
    "papermill": {
     "duration": 0.338886,
     "end_time": "2021-04-01T07:13:16.406985",
     "exception": false,
     "start_time": "2021-04-01T07:13:16.068099",
     "status": "completed"
    },
    "tags": []
   },
   "outputs": [
    {
     "name": "stdout",
     "output_type": "stream",
     "text": [
      "Your submission was successfully saved!\n"
     ]
    }
   ],
   "source": [
    "output = pd.DataFrame({'PassengerId': passengerid, 'Survived': predictions})\n",
    "output.to_csv('my_submission.csv', index=False)\n",
    "print(\"Your submission was successfully saved!\")"
   ]
  }
 ],
 "metadata": {
  "kernelspec": {
   "display_name": "Python 3",
   "language": "python",
   "name": "python3"
  },
  "language_info": {
   "codemirror_mode": {
    "name": "ipython",
    "version": 3
   },
   "file_extension": ".py",
   "mimetype": "text/x-python",
   "name": "python",
   "nbconvert_exporter": "python",
   "pygments_lexer": "ipython3",
   "version": "3.7.6"
  },
  "papermill": {
   "duration": 16.113509,
   "end_time": "2021-04-01T07:13:17.471041",
   "environment_variables": {},
   "exception": null,
   "input_path": "__notebook__.ipynb",
   "output_path": "__notebook__.ipynb",
   "parameters": {},
   "start_time": "2021-04-01T07:13:01.357532",
   "version": "2.1.0"
  }
 },
 "nbformat": 4,
 "nbformat_minor": 4
}
